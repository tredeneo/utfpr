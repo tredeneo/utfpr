{
 "cells": [
  {
   "cell_type": "code",
   "execution_count": 8,
   "metadata": {},
   "outputs": [],
   "source": [
    "import networkx as nx\n",
    "import pandas as pd\n",
    "\n",
    "#Network to evaluate links\n",
    "GMissingEdges = nx.read_gml(\"GraphMissingEdges.gml\")\n",
    "#Links to be evaluated\n",
    "dfEdgesToEvaluate = pd.read_csv('edgesToEvaluate.csv')\n",
    "lista = []\n",
    "for idx, row in dfEdgesToEvaluate.iterrows( ):\n",
    "    venue1 = row['venue1']\n",
    "    venue2 = row['venue2']\n",
    "    lista.append((venue1, venue2))\n",
    "\n",
    "pred_adamic = list(nx.adamic_adar_index(GMissingEdges, lista))\n"
   ]
  },
  {
   "cell_type": "markdown",
   "metadata": {},
   "source": [
    "criação de lista q armazenara os resultados do adamic, para extrair estatisticas"
   ]
  },
  {
   "cell_type": "code",
   "execution_count": 9,
   "metadata": {},
   "outputs": [],
   "source": [
    "lista_lontitude = []\n",
    "lista_latitude = []\n",
    "lista_valor = []\n",
    "lista_p = []"
   ]
  },
  {
   "cell_type": "code",
   "execution_count": 10,
   "metadata": {},
   "outputs": [],
   "source": [
    "for u, v, p in pred_adamic:\n",
    "    cate1 = GMissingEdges.nodes[u]['categories']\n",
    "    lat1 = float(GMissingEdges.nodes[u]['latitude'])\n",
    "    lon1 = float(GMissingEdges.nodes[u]['longitude'])\n",
    "    \n",
    "    \n",
    "    cate2 = GMissingEdges.nodes[v]['categories']\n",
    "    lat2 = float(GMissingEdges.nodes[v]['latitude'])\n",
    "    lon2 = float(GMissingEdges.nodes[v]['longitude'])\n",
    "\n",
    "    \n",
    "    setCate1 = set(cate1.split(','))\n",
    "    setCate2 = set(cate2.split(','))\n",
    "\n",
    "    \n",
    "    lista_valor.append(len(setCate1.intersection(setCate2)))\n",
    "    lista_latitude.append(abs(lat1 - lat2))\n",
    "    lista_lontitude.append(abs(lon1 - lon2))\n",
    "    lista_p.append(p)\n"
   ]
  },
  {
   "cell_type": "markdown",
   "metadata": {},
   "source": [
    "medindos os quartis pra usar de limiar pra escolher os link"
   ]
  },
  {
   "cell_type": "code",
   "execution_count": 11,
   "metadata": {},
   "outputs": [
    {
     "name": "stdout",
     "output_type": "stream",
     "text": [
      "[0.007309974999998303, 0.02137869999999964, 0.05593520529999729]\n",
      "[0.015445425499994059, 0.042002350000004185, 0.08602537652500075]\n",
      "[0.0, 0.0, 1.0]\n",
      "[0.0, 0.0, 0.2559830957079857]\n"
     ]
    }
   ],
   "source": [
    "import statistics\n",
    "latitude_limite = statistics.quantiles(lista_latitude)\n",
    "longitude_limite = statistics.quantiles(lista_lontitude)\n",
    "intersec_limite = statistics.quantiles(lista_valor)\n",
    "intersec_p = statistics.quantiles(lista_p)\n",
    "print(latitude_limite)\n",
    "print(longitude_limite)\n",
    "print(intersec_limite)\n",
    "print(intersec_p)"
   ]
  },
  {
   "cell_type": "code",
   "execution_count": 12,
   "metadata": {},
   "outputs": [],
   "source": [
    "listInference = []\n",
    "for quantidade_grupo,lat,lon,p in zip(lista_valor,lista_latitude,lista_lontitude,lista_p):\n",
    "    # usando quartil superior para os q estão relativamente pertos e mesmo grupo então deve haver um link\n",
    "    if quantidade_grupo >= intersec_limite[2] and lat < latitude_limite[2] and lon < longitude_limite[2]:\n",
    "        listInference.append(1)# n pode abaixar\n",
    "    else:\n",
    "        # usando quartil inferior para os q estão muitos perto então deve haver um link\n",
    "        if  lat < latitude_limite[0] and  lon < longitude_limite[0]: \n",
    "            listInference.append(1) \n",
    "        else:\n",
    "            if p > intersec_p[2]:\n",
    "                listInference.append(1)\n",
    "            else:\n",
    "                listInference.append(0)\n",
    "\n",
    "dfEdgesToEvaluate['link'] = listInference\n",
    "dfEdgesToEvaluate.to_csv(\"teste_arestas.csv\", columns=['linkID','link'],index=False)"
   ]
  },
  {
   "cell_type": "code",
   "execution_count": null,
   "metadata": {},
   "outputs": [],
   "source": []
  }
 ],
 "metadata": {
  "kernelspec": {
   "display_name": "Python 3 (ipykernel)",
   "language": "python",
   "name": "python3"
  },
  "language_info": {
   "codemirror_mode": {
    "name": "ipython",
    "version": 3
   },
   "file_extension": ".py",
   "mimetype": "text/x-python",
   "name": "python",
   "nbconvert_exporter": "python",
   "pygments_lexer": "ipython3",
   "version": "3.10.5"
  },
  "vscode": {
   "interpreter": {
    "hash": "62235d2a6b91292b3cbd049ce7a790b9656dd211fbfc8e00863c4e18f9242a69"
   }
  }
 },
 "nbformat": 4,
 "nbformat_minor": 4
}
