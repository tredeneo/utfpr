{
 "cells": [
  {
   "cell_type": "code",
   "execution_count": 1,
   "id": "71e6bdd3-4264-45c7-8b96-01ed88f5e450",
   "metadata": {},
   "outputs": [],
   "source": [
    "import pandas as pd\n",
    "from statsmodels.formula.api import ols"
   ]
  },
  {
   "cell_type": "code",
   "execution_count": 52,
   "id": "c6867a5c-1c35-4fd9-9e99-2f4da1b19b4c",
   "metadata": {},
   "outputs": [],
   "source": [
    "imdb = pd.read_csv(\"imdb_top_1000.csv\")\n",
    "imdb = imdb[imdb['Gross'].notna()]\n",
    "imdb = imdb.reset_index(drop=True)\n",
    "imdb[\"Gross\"] = imdb[\"Gross\"].apply(lambda x:  int(str(x).replace(\",\",\"\")))\n",
    "imdb = imdb[[\"Gross\",\"IMDB_Rating\"]]"
   ]
  },
  {
   "cell_type": "code",
   "execution_count": 53,
   "id": "0cbf5e6f-2511-435b-8620-f173610a0e44",
   "metadata": {},
   "outputs": [
    {
     "data": {
      "text/plain": [
       "Gross            int64\n",
       "IMDB_Rating    float64\n",
       "dtype: object"
      ]
     },
     "execution_count": 53,
     "metadata": {},
     "output_type": "execute_result"
    }
   ],
   "source": [
    "imdb.dtypes"
   ]
  },
  {
   "cell_type": "code",
   "execution_count": 54,
   "id": "76dfa611-b7f3-478c-b125-d69aa774632f",
   "metadata": {},
   "outputs": [
    {
     "data": {
      "text/html": [
       "<table class=\"simpletable\">\n",
       "<caption>OLS Regression Results</caption>\n",
       "<tr>\n",
       "  <th>Dep. Variable:</th>          <td>Gross</td>      <th>  R-squared:         </th> <td>   0.009</td> \n",
       "</tr>\n",
       "<tr>\n",
       "  <th>Model:</th>                   <td>OLS</td>       <th>  Adj. R-squared:    </th> <td>   0.008</td> \n",
       "</tr>\n",
       "<tr>\n",
       "  <th>Method:</th>             <td>Least Squares</td>  <th>  F-statistic:       </th> <td>   7.699</td> \n",
       "</tr>\n",
       "<tr>\n",
       "  <th>Date:</th>             <td>Wed, 30 Nov 2022</td> <th>  Prob (F-statistic):</th>  <td>0.00565</td> \n",
       "</tr>\n",
       "<tr>\n",
       "  <th>Time:</th>                 <td>16:24:15</td>     <th>  Log-Likelihood:    </th> <td> -16560.</td> \n",
       "</tr>\n",
       "<tr>\n",
       "  <th>No. Observations:</th>      <td>   831</td>      <th>  AIC:               </th> <td>3.312e+04</td>\n",
       "</tr>\n",
       "<tr>\n",
       "  <th>Df Residuals:</th>          <td>   829</td>      <th>  BIC:               </th> <td>3.313e+04</td>\n",
       "</tr>\n",
       "<tr>\n",
       "  <th>Df Model:</th>              <td>     1</td>      <th>                     </th>     <td> </td>    \n",
       "</tr>\n",
       "<tr>\n",
       "  <th>Covariance Type:</th>      <td>nonrobust</td>    <th>                     </th>     <td> </td>    \n",
       "</tr>\n",
       "</table>\n",
       "<table class=\"simpletable\">\n",
       "<tr>\n",
       "       <td></td>          <th>coef</th>     <th>std err</th>      <th>t</th>      <th>P>|t|</th>  <th>[0.025</th>    <th>0.975]</th>  \n",
       "</tr>\n",
       "<tr>\n",
       "  <th>Intercept</th>   <td>-2.274e+08</td> <td> 1.07e+08</td> <td>   -2.134</td> <td> 0.033</td> <td>-4.36e+08</td> <td>-1.83e+07</td>\n",
       "</tr>\n",
       "<tr>\n",
       "  <th>IMDB_Rating</th> <td> 3.717e+07</td> <td> 1.34e+07</td> <td>    2.775</td> <td> 0.006</td> <td> 1.09e+07</td> <td> 6.35e+07</td>\n",
       "</tr>\n",
       "</table>\n",
       "<table class=\"simpletable\">\n",
       "<tr>\n",
       "  <th>Omnibus:</th>       <td>581.678</td> <th>  Durbin-Watson:     </th> <td>   1.768</td>\n",
       "</tr>\n",
       "<tr>\n",
       "  <th>Prob(Omnibus):</th> <td> 0.000</td>  <th>  Jarque-Bera (JB):  </th> <td>7833.746</td>\n",
       "</tr>\n",
       "<tr>\n",
       "  <th>Skew:</th>          <td> 3.083</td>  <th>  Prob(JB):          </th> <td>    0.00</td>\n",
       "</tr>\n",
       "<tr>\n",
       "  <th>Kurtosis:</th>      <td>16.719</td>  <th>  Cond. No.          </th> <td>    227.</td>\n",
       "</tr>\n",
       "</table><br/><br/>Notes:<br/>[1] Standard Errors assume that the covariance matrix of the errors is correctly specified."
      ],
      "text/plain": [
       "<class 'statsmodels.iolib.summary.Summary'>\n",
       "\"\"\"\n",
       "                            OLS Regression Results                            \n",
       "==============================================================================\n",
       "Dep. Variable:                  Gross   R-squared:                       0.009\n",
       "Model:                            OLS   Adj. R-squared:                  0.008\n",
       "Method:                 Least Squares   F-statistic:                     7.699\n",
       "Date:                Wed, 30 Nov 2022   Prob (F-statistic):            0.00565\n",
       "Time:                        16:24:15   Log-Likelihood:                -16560.\n",
       "No. Observations:                 831   AIC:                         3.312e+04\n",
       "Df Residuals:                     829   BIC:                         3.313e+04\n",
       "Df Model:                           1                                         \n",
       "Covariance Type:            nonrobust                                         \n",
       "===============================================================================\n",
       "                  coef    std err          t      P>|t|      [0.025      0.975]\n",
       "-------------------------------------------------------------------------------\n",
       "Intercept   -2.274e+08   1.07e+08     -2.134      0.033   -4.36e+08   -1.83e+07\n",
       "IMDB_Rating  3.717e+07   1.34e+07      2.775      0.006    1.09e+07    6.35e+07\n",
       "==============================================================================\n",
       "Omnibus:                      581.678   Durbin-Watson:                   1.768\n",
       "Prob(Omnibus):                  0.000   Jarque-Bera (JB):             7833.746\n",
       "Skew:                           3.083   Prob(JB):                         0.00\n",
       "Kurtosis:                      16.719   Cond. No.                         227.\n",
       "==============================================================================\n",
       "\n",
       "Notes:\n",
       "[1] Standard Errors assume that the covariance matrix of the errors is correctly specified.\n",
       "\"\"\""
      ]
     },
     "execution_count": 54,
     "metadata": {},
     "output_type": "execute_result"
    }
   ],
   "source": [
    "model = ols(\"Gross ~ IMDB_Rating\", data=imdb)\n",
    "response = model.fit()\n",
    "response.summary()"
   ]
  },
  {
   "cell_type": "code",
   "execution_count": 56,
   "id": "c51af1f4-cd19-4ad3-90b3-68913ae7ec95",
   "metadata": {},
   "outputs": [
    {
     "data": {
      "text/plain": [
       "<AxesSubplot: xlabel='IMDB_Rating', ylabel='Gross'>"
      ]
     },
     "execution_count": 56,
     "metadata": {},
     "output_type": "execute_result"
    },
    {
     "data": {
      "image/png": "[encoded data removed]",
      "text/plain": [
       "<Figure size 640x480 with 1 Axes>"
      ]
     },
     "metadata": {},
     "output_type": "display_data"
    }
   ],
   "source": [
    "imdb.plot.scatter('IMDB_Rating','Gross')"
   ]
  }
 ],
 "metadata": {
  "kernelspec": {
   "display_name": "Python 3 (ipykernel)",
   "language": "python",
   "name": "python3"
  },
  "language_info": {
   "codemirror_mode": {
    "name": "ipython",
    "version": 3
   },
   "file_extension": ".py",
   "mimetype": "text/x-python",
   "name": "python",
   "nbconvert_exporter": "python",
   "pygments_lexer": "ipython3",
   "version": "3.10.8"
  }
 },
 "nbformat": 4,
 "nbformat_minor": 5
}
