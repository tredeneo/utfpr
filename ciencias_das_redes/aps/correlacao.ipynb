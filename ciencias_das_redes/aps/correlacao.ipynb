{
 "cells": [
  {
   "cell_type": "code",
   "execution_count": 1,
   "id": "71e6bdd3-4264-45c7-8b96-01ed88f5e450",
   "metadata": {},
   "outputs": [],
   "source": [
    "import pandas as pd\n",
    "from statsmodels.formula.api import ols"
   ]
  },
  {
   "cell_type": "code",
   "execution_count": 52,
   "id": "c6867a5c-1c35-4fd9-9e99-2f4da1b19b4c",
   "metadata": {},
   "outputs": [],
   "source": [
    "imdb = pd.read_csv(\"imdb_top_1000.csv\")\n",
    "imdb = imdb[imdb['Gross'].notna()]\n",
    "imdb = imdb.reset_index(drop=True)\n",
    "imdb[\"Gross\"] = imdb[\"Gross\"].apply(lambda x:  int(str(x).replace(\",\",\"\")))\n",
    "imdb = imdb[[\"Gross\",\"IMDB_Rating\"]]"
   ]
  },
  {
   "cell_type": "code",
   "execution_count": 110,
   "id": "76dfa611-b7f3-478c-b125-d69aa774632f",
   "metadata": {},
   "outputs": [
    {
     "data": {
      "text/html": [
       "<table class=\"simpletable\">\n",
       "<tr>\n",
       "        <td>Model:</td>               <td>OLS</td>         <td>Adj. R-squared:</td>      <td>0.008</td>  \n",
       "</tr>\n",
       "<tr>\n",
       "  <td>Dependent Variable:</td>       <td>Gross</td>             <td>AIC:</td>         <td>33123.3897</td>\n",
       "</tr>\n",
       "<tr>\n",
       "         <td>Date:</td>        <td>2022-11-30 16:54</td>        <td>BIC:</td>         <td>33132.8349</td>\n",
       "</tr>\n",
       "<tr>\n",
       "   <td>No. Observations:</td>         <td>831</td>         <td>Log-Likelihood:</td>     <td>-16560.</td> \n",
       "</tr>\n",
       "<tr>\n",
       "       <td>Df Model:</td>              <td>1</td>           <td>F-statistic:</td>        <td>7.699</td>  \n",
       "</tr>\n",
       "<tr>\n",
       "     <td>Df Residuals:</td>           <td>829</td>       <td>Prob (F-statistic):</td>   <td>0.00565</td> \n",
       "</tr>\n",
       "<tr>\n",
       "      <td>R-squared:</td>            <td>0.009</td>            <td>Scale:</td>        <td>1.1949e+16</td>\n",
       "</tr>\n",
       "</table>\n",
       "<table class=\"simpletable\">\n",
       "<tr>\n",
       "       <td></td>            <th>Coef.</th>         <th>Std.Err.</th>       <th>t</th>     <th>P>|t|</th>     <th>[0.025</th>          <th>0.975]</th>    \n",
       "</tr>\n",
       "<tr>\n",
       "  <th>Intercept</th>   <td>-227376280.1977</td> <td>106535840.1889</td> <td>-2.1343</td> <td>0.0331</td> <td>-436487991.6326</td> <td>-18264568.7627</td>\n",
       "</tr>\n",
       "<tr>\n",
       "  <th>IMDB_Rating</th>  <td>37172968.5217</td>   <td>13397414.7700</td> <td>2.7746</td>  <td>0.0057</td>  <td>10876124.8830</td>   <td>63469812.1604</td>\n",
       "</tr>\n",
       "</table>\n",
       "<table class=\"simpletable\">\n",
       "<tr>\n",
       "     <td>Omnibus:</td>    <td>581.678</td>  <td>Durbin-Watson:</td>     <td>1.768</td> \n",
       "</tr>\n",
       "<tr>\n",
       "  <td>Prob(Omnibus):</td>  <td>0.000</td>  <td>Jarque-Bera (JB):</td> <td>7833.746</td>\n",
       "</tr>\n",
       "<tr>\n",
       "       <td>Skew:</td>      <td>3.083</td>      <td>Prob(JB):</td>       <td>0.000</td> \n",
       "</tr>\n",
       "<tr>\n",
       "     <td>Kurtosis:</td>   <td>16.719</td>   <td>Condition No.:</td>      <td>227</td>  \n",
       "</tr>\n",
       "</table>"
      ],
      "text/plain": [
       "<class 'statsmodels.iolib.summary2.Summary'>\n",
       "\"\"\"\n",
       "                            Results: Ordinary least squares\n",
       "========================================================================================\n",
       "Model:                     OLS                     Adj. R-squared:            0.008     \n",
       "Dependent Variable:        Gross                   AIC:                       33123.3897\n",
       "Date:                      2022-11-30 16:54        BIC:                       33132.8349\n",
       "No. Observations:          831                     Log-Likelihood:            -16560.   \n",
       "Df Model:                  1                       F-statistic:               7.699     \n",
       "Df Residuals:              829                     Prob (F-statistic):        0.00565   \n",
       "R-squared:                 0.009                   Scale:                     1.1949e+16\n",
       "----------------------------------------------------------------------------------------\n",
       "                 Coef.         Std.Err.       t    P>|t|       [0.025         0.975]    \n",
       "----------------------------------------------------------------------------------------\n",
       "Intercept   -227376280.1977 106535840.1889 -2.1343 0.0331 -436487991.6326 -18264568.7627\n",
       "IMDB_Rating   37172968.5217  13397414.7700  2.7746 0.0057   10876124.8830  63469812.1604\n",
       "----------------------------------------------------------------------------------------\n",
       "Omnibus:                    581.678              Durbin-Watson:                 1.768   \n",
       "Prob(Omnibus):              0.000                Jarque-Bera (JB):              7833.746\n",
       "Skew:                       3.083                Prob(JB):                      0.000   \n",
       "Kurtosis:                   16.719               Condition No.:                 227     \n",
       "========================================================================================\n",
       "\n",
       "\"\"\""
      ]
     },
     "execution_count": 110,
     "metadata": {},
     "output_type": "execute_result"
    }
   ],
   "source": [
    "model = ols(\"Gross ~ IMDB_Rating\", data=imdb)\n",
    "response = model.fit()\n",
    "response.summary2()"
   ]
  },
  {
   "cell_type": "code",
   "execution_count": 94,
   "id": "8e86cf0c-60fe-4f9b-886e-4e7df9a4ddc3",
   "metadata": {},
   "outputs": [],
   "source": [
    "import pandas as pd\n",
    "import numpy as np\n",
    "import matplotlib.pyplot as plot\n",
    "from sklearn.linear_model import LinearRegression as lr"
   ]
  },
  {
   "cell_type": "code",
   "execution_count": 115,
   "id": "4de4cb14-4238-4d85-aced-e6a0d5a5b667",
   "metadata": {},
   "outputs": [
    {
     "data": {
      "image/png": "[encoded data removed]",
      "text/plain": [
       "<Figure size 640x480 with 1 Axes>"
      ]
     },
     "metadata": {},
     "output_type": "display_data"
    }
   ],
   "source": [
    "X = imdb['IMDB_Rating'].values.reshape(-1, 1)\n",
    "Y = imdb['Gross'].values.reshape(-1, 1)\n",
    "linear_regressor = lr()\n",
    "reg = linear_regressor.fit(X, Y)\n",
    "Y_p = linear_regressor.predict(X)\n",
    "plot.scatter(X, Y)\n",
    "plot.plot(X, Y_p, color='red')\n",
    "plt.xlabel('nota')\n",
    "plt.ylabel('arrecadação')\n",
    "plot.savefig(\"correlacao.png\")\n",
    "plot.show()"
   ]
  }
 ],
 "metadata": {
  "kernelspec": {
   "display_name": "Python 3 (ipykernel)",
   "language": "python",
   "name": "python3"
  },
  "language_info": {
   "codemirror_mode": {
    "name": "ipython",
    "version": 3
   },
   "file_extension": ".py",
   "mimetype": "text/x-python",
   "name": "python",
   "nbconvert_exporter": "python",
   "pygments_lexer": "ipython3",
   "version": "3.10.8"
  }
 },
 "nbformat": 4,
 "nbformat_minor": 5
}
