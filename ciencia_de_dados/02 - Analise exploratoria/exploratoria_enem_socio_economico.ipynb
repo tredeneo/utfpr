{
 "cells": [
  {
   "cell_type": "code",
   "execution_count": 1,
   "id": "e5609a96-6f12-48de-9603-7b47a0f08a74",
   "metadata": {},
   "outputs": [],
   "source": [
    "import sys\n",
    "import pandas\n",
    "\n",
    "sys.path.append(\".\")\n",
    "import processamento"
   ]
  },
  {
   "cell_type": "code",
   "execution_count": 2,
   "id": "1eafad80-932d-43c7-829e-2eb6cdd013e8",
   "metadata": {},
   "outputs": [],
   "source": [
    "quantidade_lida = 10000\n",
    "enem_2019 = pandas.read_csv(\n",
    "    \"./microdados_enem_2019/DADOS/MICRODADOS_ENEM_2019.csv\",\n",
    "    delimiter=\";\",\n",
    "    encoding=\"iso-8859-15\",\n",
    "#    nrows=quantidade_lida,\n",
    ")\n",
    "enem_2020 = pandas.read_csv(\n",
    "    \"./microdados_enem_2020/DADOS/MICRODADOS_ENEM_2020.csv\",\n",
    "    delimiter=\";\",\n",
    "    encoding=\"iso-8859-15\",\n",
    "#    nrows=quantidade_lida,\n",
    ")\n",
    "enem_2019, enem_2020 = processamento.limpeza(enem_2019, enem_2020)"
   ]
  },
  {
   "cell_type": "code",
   "execution_count": 3,
   "id": "8a1940d9-21cf-4cbc-96d8-2fe9b4dc9abf",
   "metadata": {},
   "outputs": [
    {
     "data": {
      "application/vnd.jupyter.widget-view+json": {
       "model_id": "95f60c059cd544b9bb2421953a18ec67",
       "version_major": 2,
       "version_minor": 0
      },
      "text/plain": [
       "Summarize dataset:   0%|          | 0/5 [00:00<?, ?it/s]"
      ]
     },
     "metadata": {},
     "output_type": "display_data"
    },
    {
     "data": {
      "application/vnd.jupyter.widget-view+json": {
       "model_id": "c67248beeb1848e4bd7bbcdb77b14895",
       "version_major": 2,
       "version_minor": 0
      },
      "text/plain": [
       "Generate report structure:   0%|          | 0/1 [00:00<?, ?it/s]"
      ]
     },
     "metadata": {},
     "output_type": "display_data"
    },
    {
     "data": {
      "application/vnd.jupyter.widget-view+json": {
       "model_id": "f0fd2606c6ac4f2b8124559d37bdbe18",
       "version_major": 2,
       "version_minor": 0
      },
      "text/plain": [
       "Render HTML:   0%|          | 0/1 [00:00<?, ?it/s]"
      ]
     },
     "metadata": {},
     "output_type": "display_data"
    },
    {
     "data": {
      "application/vnd.jupyter.widget-view+json": {
       "model_id": "a8e20b0b9511434282b0e5d4750c4788",
       "version_major": 2,
       "version_minor": 0
      },
      "text/plain": [
       "Export report to file:   0%|          | 0/1 [00:00<?, ?it/s]"
      ]
     },
     "metadata": {},
     "output_type": "display_data"
    },
    {
     "data": {
      "application/vnd.jupyter.widget-view+json": {
       "model_id": "fb20cd7b2de149839cfad7a5b2207904",
       "version_major": 2,
       "version_minor": 0
      },
      "text/plain": [
       "Render JSON:   0%|          | 0/1 [00:00<?, ?it/s]"
      ]
     },
     "metadata": {},
     "output_type": "display_data"
    },
    {
     "data": {
      "application/vnd.jupyter.widget-view+json": {
       "model_id": "6b07239d6919478b9b967adcd0834eb3",
       "version_major": 2,
       "version_minor": 0
      },
      "text/plain": [
       "Summarize dataset:   0%|          | 0/5 [00:00<?, ?it/s]"
      ]
     },
     "metadata": {},
     "output_type": "display_data"
    },
    {
     "data": {
      "application/vnd.jupyter.widget-view+json": {
       "model_id": "f0d92cff83d2445d913809bb0e1d2763",
       "version_major": 2,
       "version_minor": 0
      },
      "text/plain": [
       "Generate report structure:   0%|          | 0/1 [00:00<?, ?it/s]"
      ]
     },
     "metadata": {},
     "output_type": "display_data"
    },
    {
     "data": {
      "application/vnd.jupyter.widget-view+json": {
       "model_id": "d7cdc3fbed144d98b26aec9b0cbbf83b",
       "version_major": 2,
       "version_minor": 0
      },
      "text/plain": [
       "Render HTML:   0%|          | 0/1 [00:00<?, ?it/s]"
      ]
     },
     "metadata": {},
     "output_type": "display_data"
    },
    {
     "data": {
      "application/vnd.jupyter.widget-view+json": {
       "model_id": "676a3c1b28724047947a0521858e5bb7",
       "version_major": 2,
       "version_minor": 0
      },
      "text/plain": [
       "Export report to file:   0%|          | 0/1 [00:00<?, ?it/s]"
      ]
     },
     "metadata": {},
     "output_type": "display_data"
    },
    {
     "data": {
      "application/vnd.jupyter.widget-view+json": {
       "model_id": "bebba741768a4680b8bc6aac84105560",
       "version_major": 2,
       "version_minor": 0
      },
      "text/plain": [
       "Render JSON:   0%|          | 0/1 [00:00<?, ?it/s]"
      ]
     },
     "metadata": {},
     "output_type": "display_data"
    }
   ],
   "source": [
    "from pandas_profiling import ProfileReport\n",
    "def profile(enem,ano):\n",
    "    #usar apenas a correlação de cramer pq é a unica que funcionar para valores nominais\n",
    "    profile = enem.profile_report(correlations={\n",
    "            \"pearson\": {\"calculate\": False},\n",
    "            \"spearman\": {\"calculate\": False},\n",
    "            \"kendall\": {\"calculate\": False},\n",
    "            \"phi_k\": {\"calculate\": False},\n",
    "            \"cramers\": {\"calculate\": True},})\n",
    "    profile.to_file(f\"enem-{ano}.html\")\n",
    "    return profile.to_json()\n",
    "\n",
    "correlacao_2019 = profile(enem_2019,\"2019\")\n",
    "correlacao_2020 = profile(enem_2020,\"2020\")"
   ]
  },
  {
   "cell_type": "code",
   "execution_count": 5,
   "id": "be5d625c-f51a-4266-b45d-1bbe073264ea",
   "metadata": {},
   "outputs": [],
   "source": [
    "def gera_tabela_correlacao(profile):\n",
    "    import json\n",
    "    d = json.loads(profile)\n",
    "    faltas = []\n",
    "    for i in d[\"correlations\"][\"cramers\"]:\n",
    "        nomes = i.keys()\n",
    "        faltas.append(i[\"falta\"])\n",
    "    correlacao = pandas.DataFrame.from_records(dict(zip(nomes, faltas)),index=[0])\n",
    "    correlacao = correlacao.sort_values(by=0,axis=1,ascending = False).transpose()\n",
    "    return correlacao\n",
    "\n",
    "correlacao_2019 = gera_tabela_correlacao(correlacao_2019)\n",
    "correlacao_2020 = gera_tabela_correlacao(correlacao_2020)\n",
    "\n",
    "correlacao = pandas.concat([correlacao_2019,correlacao_2020],keys=[\"2019\",\"2020\"],axis=1)\n",
    "correlacao.to_csv(\"correlacao.csv\")"
   ]
  },
  {
   "cell_type": "code",
   "execution_count": 6,
   "id": "b45a003e-70de-4db5-aa15-25dad1b07cd0",
   "metadata": {
    "tags": []
   },
   "outputs": [
    {
     "name": "stderr",
     "output_type": "stream",
     "text": [
      "/home/dnl/.local/lib/python3.10/site-packages/pandas/plotting/_matplotlib/core.py:345: RuntimeWarning: More than 20 figures have been opened. Figures created through the pyplot interface (`matplotlib.pyplot.figure`) are retained until explicitly closed and may consume too much memory. (To control this warning, see the rcParam `figure.max_open_warning`).\n",
      "  fig = self.plt.figure(figsize=self.figsize)\n"
     ]
    }
   ],
   "source": [
    "def crosstab(variavel_explicativa,variavel_resposta):\n",
    "    contigencia = pandas.crosstab(variavel_explicativa, variavel_resposta,normalize='all')\n",
    "    return contigencia\n",
    "    \n",
    "\n",
    "def salvar_grafico(contigencia,nome):\n",
    "    plot = contigencia.plot.bar(title=nome)\n",
    "    fig = plot.get_figure()\n",
    "    fig.savefig(f\"grafico_{nome}.png\")\n",
    "    del\n",
    "    \n",
    "    \n",
    "for (_,coluna_2019),(_,coluna_2020) in zip(enem_2019.iteritems(),enem_2020.iteritems()):\n",
    "    contigencia_2019 = crosstab(coluna_2019,enem_2019[\"falta\"])\n",
    "    contigencia_2020 = crosstab(coluna_2020,enem_2020[\"falta\"])\n",
    "    contigencia_diferenca = (contigencia_2020-contigencia_2019)[1]\n",
    "    if(coluna_2020.name in [\"CO_MUNICIPIO_ESC\",\"CO_MUNICIPIO_PROVA\",\"CO_MUNICIPIO_PROVA\",\"CO_MUNICIPIO_ESC\"]):\n",
    "        contigencia_diferenca = contigencia_diferenca[~contigencia_diferenca.isnull()]\n",
    "        contigencia_diferenca = contigencia_diferenca.sort_values()\n",
    "        contigencia_diferenca = pandas.concat([contigencia_diferenca.head(10),contigencia_diferenca.tail(10)])\n",
    "\n",
    "    salvar_grafico(pandas.DataFrame(contigencia_diferenca),coluna_2020.name)"
   ]
  },
  {
   "cell_type": "code",
   "execution_count": null,
   "id": "2c884f43-00d9-40b5-9076-e7954275e680",
   "metadata": {},
   "outputs": [],
   "source": []
  },
  {
   "cell_type": "code",
   "execution_count": null,
   "id": "16f322be-15ac-4256-8461-f787dd003a1d",
   "metadata": {},
   "outputs": [],
   "source": []
  }
 ],
 "metadata": {
  "kernelspec": {
   "display_name": "Python 3 (ipykernel)",
   "language": "python",
   "name": "python3"
  },
  "language_info": {
   "codemirror_mode": {
    "name": "ipython",
    "version": 3
   },
   "file_extension": ".py",
   "mimetype": "text/x-python",
   "name": "python",
   "nbconvert_exporter": "python",
   "pygments_lexer": "ipython3",
   "version": "3.10.2"
  }
 },
 "nbformat": 4,
 "nbformat_minor": 5
}
