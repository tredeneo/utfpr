{
 "cells": [
  {
   "cell_type": "code",
   "execution_count": 1,
   "metadata": {},
   "outputs": [],
   "source": [
    "import pandas as pd\n",
    "import numpy as np\n",
    "import matplotlib.pyplot as plt"
   ]
  },
  {
   "cell_type": "code",
   "execution_count": 2,
   "metadata": {},
   "outputs": [],
   "source": [
    "df_covid_1 = pd.read_csv(\"HIST_PAINEL_COVIDBR_2021_Parte2_30mar2022.csv\", sep=';', encoding = 'utf8')\n",
    "df_covid_2 = pd.read_csv(\"HIST_PAINEL_COVIDBR_2021_Parte1_30mar2022.csv\", sep=';', encoding = 'utf8')\n",
    "\n",
    "frames = [df_covid_1, df_covid_2]\n",
    "\n",
    "df_covid_nov = pd.concat(frames)\n",
    "\n",
    "df_covid_nov = df_covid_nov[['regiao', 'estado', 'municipio', 'data', 'populacaoTCU2019','casosAcumulado','casosNovos','obitosAcumulado','obitosNovos']]\n",
    "\n",
    "#df_covid_nov[\"Casos_por_1000\"]\n",
    "#df_covid_nov[\"Mortes_por_1000\"]\n",
    "\n",
    "df_covid_nov['Casos_per_capita'] = pd.to_numeric(df_covid_nov['casosAcumulado'], downcast=\"float\")\n",
    "df_covid_nov['Casos_per_capita'] = np.where(df_covid_nov['Casos_per_capita'] > 1, df_covid_nov['Casos_per_capita'] / df_covid_nov['populacaoTCU2019'], df_covid_nov['Casos_per_capita'])\n",
    "\n",
    "df_covid_nov['Mortes_per_capita'] = pd.to_numeric(df_covid_nov['obitosAcumulado'], downcast=\"float\")\n",
    "df_covid_nov['Mortes_per_capita'] = np.where(df_covid_nov['Mortes_per_capita'] > 1, df_covid_nov['Mortes_per_capita'] / df_covid_nov['populacaoTCU2019'], df_covid_nov['Mortes_per_capita'])\n",
    "\n",
    "df_covid_nov = df_covid_nov.loc[df_covid_nov['data'] == '2021-11-21']\n",
    "\n",
    "df_covid_nov.to_csv('df_covid_nov.csv', sep=';', index=False, encoding='utf-8')"
   ]
  },
  {
   "cell_type": "code",
   "execution_count": 3,
   "metadata": {},
   "outputs": [],
   "source": [
    "df_enem = pd.read_csv(\"MICRODADOS_ENEM_2020.csv\", sep=';', encoding = \"cp1252\")\n",
    "\n",
    "df_enem = df_enem[['TP_FAIXA_ETARIA', 'TP_SEXO', 'TP_COR_RACA', 'TP_ST_CONCLUSAO', 'TP_ESCOLA','TP_ENSINO','CO_MUNICIPIO_ESC','NO_MUNICIPIO_ESC','TP_LOCALIZACAO_ESC',\n",
    "'CO_MUNICIPIO_PROVA', 'NO_MUNICIPIO_PROVA', 'TP_PRESENCA_CN', 'TP_PRESENCA_CH', 'TP_PRESENCA_LC', 'TP_PRESENCA_MT', 'Q001','Q002','Q003','Q004','Q005','Q006','Q007','Q008','Q009',\n",
    "'Q010','Q011','Q012','Q013','Q014','Q015','Q016','Q017','Q018','Q019','Q020','Q021','Q022','Q023','Q024','Q025']]\n",
    "\n",
    "df_enem['Faltou'] = 'Nulo'\n",
    "\n",
    "#df_temp = ((df_enem['TP_PRESENCA_CN'] == '1') & (df_enem['TP_PRESENCA_CN'] == '1') & (df_enem['TP_PRESENCA_LC'] == '1') & (df_enem['TP_PRESENCA_MT'] == '1'))\n",
    "#df_enem.loc[df_temp, 'Faltou'] = 'N'\n",
    "#df_enem.loc[~df_temp, 'Faltou'] = 'S'\n",
    "\n",
    "def calc(row):\n",
    "    if row['TP_PRESENCA_CN'] == 1 & row['TP_PRESENCA_CN'] == 1 & row['TP_PRESENCA_LC'] == 1 & row['TP_PRESENCA_MT'] == 1:\n",
    "        return 1\n",
    "    else:\n",
    "        return 0\n",
    "\n",
    "df_enem[\"Presente\"] = df_enem.apply(calc, axis = 1)\n",
    "\n",
    "df_enem = df_enem[~df_enem['CO_MUNICIPIO_ESC'].isnull()]\n",
    "df_enem = df_enem[~df_enem['NO_MUNICIPIO_ESC'].isnull()]\n",
    "\n",
    "df_enem.to_csv('df_enem.csv', sep=';', index=False, encoding='cp1252')\n",
    "\n"
   ]
  },
  {
   "cell_type": "code",
   "execution_count": 72,
   "metadata": {},
   "outputs": [],
   "source": [
    "df_enem = pd.read_csv(\"df_enem.csv\", sep=';', encoding = \"cp1252\")\n",
    "df_teste = df_enem\n",
    "df_teste[\"Total_Alunos\"] = df_teste.groupby('NO_MUNICIPIO_ESC')['NO_MUNICIPIO_ESC'].transform('count')"
   ]
  },
  {
   "cell_type": "code",
   "execution_count": 113,
   "metadata": {},
   "outputs": [],
   "source": [
    "df_teste_2 = df_teste[['NO_MUNICIPIO_ESC', 'Presente', 'Total_Alunos']]\n",
    "df_teste_2 = pd.concat([df_teste_2['NO_MUNICIPIO_ESC'], df_teste_2.groupby(['NO_MUNICIPIO_ESC', 'Total_Alunos'])['Presente'].transform('sum')], axis = 1)\n",
    "df_teste_2[\"Total_Alunos\"] = df_teste_2.groupby('NO_MUNICIPIO_ESC')['NO_MUNICIPIO_ESC'].transform('count')\n",
    "df_teste_2.drop_duplicates(subset =\"NO_MUNICIPIO_ESC\", keep = 'first', inplace = True)\n",
    "\n",
    "df_teste_2.to_csv('df_teste_2.csv', sep=';', index=False, encoding='utf8')\n",
    "\n",
    "df_teste_final = pd.read_csv(\"df_teste_2.csv\", sep=';', encoding = \"utf8\")\n",
    "\n",
    "df_covid_final = pd.read_csv(\"df_covid_nov.csv\", sep=';', encoding = \"utf8\")\n",
    "\n",
    "df_merge = pd.merge(df_teste_final, df_covid_final, left_on = 'NO_MUNICIPIO_ESC', right_on='municipio', how='left')\n",
    "\n",
    "df_merge.drop_duplicates(subset =\"NO_MUNICIPIO_ESC\", keep = 'first', inplace = True)\n",
    "df_merge.drop_duplicates(subset =\"municipio\", keep = 'first', inplace = True)\n",
    "\n",
    "df_merge['Relacao_Presenca'] = pd.to_numeric(df_merge['Total_Alunos'], downcast=\"float\")\n",
    "df_merge['Relacao_Presenca'] = np.where(df_merge['Total_Alunos'] > 0, df_merge['Presente'] / df_merge['Total_Alunos'], df_merge['Total_Alunos'])\n",
    "\n",
    "df_merge.to_csv('df_merge.csv', sep=';', index=False, encoding='utf8')\n"
   ]
  },
  {
   "cell_type": "code",
   "execution_count": 114,
   "metadata": {},
   "outputs": [
    {
     "data": {
      "text/plain": [
       "<AxesSubplot:ylabel='Frequency'>"
      ]
     },
     "execution_count": 114,
     "metadata": {},
     "output_type": "execute_result"
    },
    {
     "data": {
      "image/png": "[encoded data removed]",
      "text/plain": [
       "<Figure size 432x288 with 1 Axes>"
      ]
     },
     "metadata": {
      "needs_background": "light"
     },
     "output_type": "display_data"
    }
   ],
   "source": [
    "df_merge[\"Casos_per_capita\"].plot.hist(bins=40)"
   ]
  },
  {
   "cell_type": "code",
   "execution_count": 115,
   "metadata": {},
   "outputs": [
    {
     "data": {
      "text/plain": [
       "<AxesSubplot:ylabel='Frequency'>"
      ]
     },
     "execution_count": 115,
     "metadata": {},
     "output_type": "execute_result"
    },
    {
     "data": {
      "image/png": "[encoded data removed]",
      "text/plain": [
       "<Figure size 432x288 with 1 Axes>"
      ]
     },
     "metadata": {
      "needs_background": "light"
     },
     "output_type": "display_data"
    }
   ],
   "source": [
    "df_merge.loc[df_merge['Mortes_per_capita'] > 0.2,'Mortes_per_capita'] = np.nan\n",
    "df_merge = df_merge.fillna(df_merge.mean())\n",
    "df_merge[\"Mortes_per_capita\"].plot.hist(bins=40)"
   ]
  },
  {
   "cell_type": "code",
   "execution_count": 116,
   "metadata": {},
   "outputs": [
    {
     "data": {
      "text/plain": [
       "<AxesSubplot:>"
      ]
     },
     "execution_count": 116,
     "metadata": {},
     "output_type": "execute_result"
    },
    {
     "data": {
      "image/png": "[encoded data removed]",
      "text/plain": [
       "<Figure size 432x288 with 1 Axes>"
      ]
     },
     "metadata": {
      "needs_background": "light"
     },
     "output_type": "display_data"
    }
   ],
   "source": [
    "df_merge.boxplot(column=['Casos_per_capita'])"
   ]
  },
  {
   "cell_type": "code",
   "execution_count": 117,
   "metadata": {},
   "outputs": [
    {
     "data": {
      "text/plain": [
       "<AxesSubplot:>"
      ]
     },
     "execution_count": 117,
     "metadata": {},
     "output_type": "execute_result"
    },
    {
     "data": {
      "image/png": "[encoded data removed]",
      "text/plain": [
       "<Figure size 432x288 with 1 Axes>"
      ]
     },
     "metadata": {
      "needs_background": "light"
     },
     "output_type": "display_data"
    }
   ],
   "source": [
    "#df_merge['Mortes_per_capita'] = df_merge['Mortes_per_capita'].replace('1',df_merge['Mortes_per_capita'].mean())\n",
    "df_merge.loc[df_merge['Mortes_per_capita'] > 0.2,'Mortes_per_capita'] = np.nan\n",
    "df_merge = df_merge.fillna(df_merge.mean())\n",
    "df_merge.boxplot(column=['Mortes_per_capita'])"
   ]
  },
  {
   "cell_type": "code",
   "execution_count": 118,
   "metadata": {},
   "outputs": [
    {
     "data": {
      "text/plain": [
       "<AxesSubplot:ylabel='Frequency'>"
      ]
     },
     "execution_count": 118,
     "metadata": {},
     "output_type": "execute_result"
    },
    {
     "data": {
      "image/png": "[encoded data removed]",
      "text/plain": [
       "<Figure size 432x288 with 1 Axes>"
      ]
     },
     "metadata": {
      "needs_background": "light"
     },
     "output_type": "display_data"
    }
   ],
   "source": [
    "df_merge[\"Relacao_Presenca\"].plot.hist(bins=40)"
   ]
  },
  {
   "cell_type": "code",
   "execution_count": 119,
   "metadata": {},
   "outputs": [
    {
     "data": {
      "text/plain": [
       "<AxesSubplot:>"
      ]
     },
     "execution_count": 119,
     "metadata": {},
     "output_type": "execute_result"
    },
    {
     "data": {
      "image/png": "[encoded data removed]",
      "text/plain": [
       "<Figure size 432x288 with 1 Axes>"
      ]
     },
     "metadata": {
      "needs_background": "light"
     },
     "output_type": "display_data"
    }
   ],
   "source": [
    "df_merge.boxplot(column=['Relacao_Presenca'])"
   ]
  },
  {
   "cell_type": "code",
   "execution_count": 122,
   "metadata": {},
   "outputs": [
    {
     "data": {
      "text/html": [
       "<style  type=\"text/css\" >\n",
       "#T_eb37d_row0_col0,#T_eb37d_row1_col1,#T_eb37d_row2_col2,#T_eb37d_row3_col3,#T_eb37d_row4_col4,#T_eb37d_row5_col5,#T_eb37d_row6_col6,#T_eb37d_row7_col7,#T_eb37d_row8_col8,#T_eb37d_row9_col9{\n",
       "            background-color:  #b40426;\n",
       "            color:  #f1f1f1;\n",
       "        }#T_eb37d_row0_col1,#T_eb37d_row1_col0{\n",
       "            background-color:  #b70d28;\n",
       "            color:  #f1f1f1;\n",
       "        }#T_eb37d_row0_col2,#T_eb37d_row1_col3,#T_eb37d_row2_col0,#T_eb37d_row5_col3{\n",
       "            background-color:  #cd423b;\n",
       "            color:  #f1f1f1;\n",
       "        }#T_eb37d_row0_col3{\n",
       "            background-color:  #ca3b37;\n",
       "            color:  #f1f1f1;\n",
       "        }#T_eb37d_row0_col4,#T_eb37d_row4_col0{\n",
       "            background-color:  #ccd9ed;\n",
       "            color:  #000000;\n",
       "        }#T_eb37d_row0_col5,#T_eb37d_row1_col2,#T_eb37d_row5_col0{\n",
       "            background-color:  #cf453c;\n",
       "            color:  #f1f1f1;\n",
       "        }#T_eb37d_row0_col6{\n",
       "            background-color:  #82a6fb;\n",
       "            color:  #000000;\n",
       "        }#T_eb37d_row0_col7,#T_eb37d_row1_col7,#T_eb37d_row4_col7,#T_eb37d_row5_col7,#T_eb37d_row9_col4{\n",
       "            background-color:  #4257c9;\n",
       "            color:  #f1f1f1;\n",
       "        }#T_eb37d_row0_col8,#T_eb37d_row1_col8{\n",
       "            background-color:  #6485ec;\n",
       "            color:  #000000;\n",
       "        }#T_eb37d_row0_col9{\n",
       "            background-color:  #5e7de7;\n",
       "            color:  #000000;\n",
       "        }#T_eb37d_row1_col4,#T_eb37d_row4_col1{\n",
       "            background-color:  #c0d4f5;\n",
       "            color:  #000000;\n",
       "        }#T_eb37d_row1_col5,#T_eb37d_row5_col1{\n",
       "            background-color:  #d24b40;\n",
       "            color:  #f1f1f1;\n",
       "        }#T_eb37d_row1_col6,#T_eb37d_row6_col0{\n",
       "            background-color:  #7a9df8;\n",
       "            color:  #000000;\n",
       "        }#T_eb37d_row1_col9{\n",
       "            background-color:  #5875e1;\n",
       "            color:  #000000;\n",
       "        }#T_eb37d_row2_col1{\n",
       "            background-color:  #d0473d;\n",
       "            color:  #f1f1f1;\n",
       "        }#T_eb37d_row2_col3{\n",
       "            background-color:  #c43032;\n",
       "            color:  #f1f1f1;\n",
       "        }#T_eb37d_row2_col4{\n",
       "            background-color:  #c6d6f1;\n",
       "            color:  #000000;\n",
       "        }#T_eb37d_row2_col5,#T_eb37d_row5_col2{\n",
       "            background-color:  #bd1f2d;\n",
       "            color:  #f1f1f1;\n",
       "        }#T_eb37d_row2_col6{\n",
       "            background-color:  #7597f6;\n",
       "            color:  #000000;\n",
       "        }#T_eb37d_row2_col7,#T_eb37d_row9_col7{\n",
       "            background-color:  #3c4ec2;\n",
       "            color:  #f1f1f1;\n",
       "        }#T_eb37d_row2_col8{\n",
       "            background-color:  #6180e9;\n",
       "            color:  #000000;\n",
       "        }#T_eb37d_row2_col9{\n",
       "            background-color:  #5673e0;\n",
       "            color:  #000000;\n",
       "        }#T_eb37d_row3_col0{\n",
       "            background-color:  #c83836;\n",
       "            color:  #f1f1f1;\n",
       "        }#T_eb37d_row3_col1,#T_eb37d_row3_col5{\n",
       "            background-color:  #cc403a;\n",
       "            color:  #f1f1f1;\n",
       "        }#T_eb37d_row3_col2{\n",
       "            background-color:  #c32e31;\n",
       "            color:  #f1f1f1;\n",
       "        }#T_eb37d_row3_col4{\n",
       "            background-color:  #bcd2f7;\n",
       "            color:  #000000;\n",
       "        }#T_eb37d_row3_col6{\n",
       "            background-color:  #81a4fb;\n",
       "            color:  #000000;\n",
       "        }#T_eb37d_row3_col7,#T_eb37d_row5_col9,#T_eb37d_row8_col0{\n",
       "            background-color:  #5470de;\n",
       "            color:  #000000;\n",
       "        }#T_eb37d_row3_col8{\n",
       "            background-color:  #6f92f3;\n",
       "            color:  #000000;\n",
       "        }#T_eb37d_row3_col9,#T_eb37d_row8_col5{\n",
       "            background-color:  #5a78e4;\n",
       "            color:  #000000;\n",
       "        }#T_eb37d_row4_col2{\n",
       "            background-color:  #c9d7f0;\n",
       "            color:  #000000;\n",
       "        }#T_eb37d_row4_col3{\n",
       "            background-color:  #b1cbfc;\n",
       "            color:  #000000;\n",
       "        }#T_eb37d_row4_col5,#T_eb37d_row5_col4{\n",
       "            background-color:  #e8d6cc;\n",
       "            color:  #000000;\n",
       "        }#T_eb37d_row4_col6{\n",
       "            background-color:  #7ea1fa;\n",
       "            color:  #000000;\n",
       "        }#T_eb37d_row4_col8{\n",
       "            background-color:  #5977e3;\n",
       "            color:  #000000;\n",
       "        }#T_eb37d_row4_col9,#T_eb37d_row6_col8{\n",
       "            background-color:  #516ddb;\n",
       "            color:  #000000;\n",
       "        }#T_eb37d_row5_col6{\n",
       "            background-color:  #6c8ff1;\n",
       "            color:  #000000;\n",
       "        }#T_eb37d_row5_col8,#T_eb37d_row6_col3{\n",
       "            background-color:  #6a8bef;\n",
       "            color:  #000000;\n",
       "        }#T_eb37d_row6_col1{\n",
       "            background-color:  #7396f5;\n",
       "            color:  #000000;\n",
       "        }#T_eb37d_row6_col2{\n",
       "            background-color:  #7295f4;\n",
       "            color:  #000000;\n",
       "        }#T_eb37d_row6_col4{\n",
       "            background-color:  #779af7;\n",
       "            color:  #000000;\n",
       "        }#T_eb37d_row6_col5{\n",
       "            background-color:  #6687ed;\n",
       "            color:  #000000;\n",
       "        }#T_eb37d_row6_col7,#T_eb37d_row7_col0,#T_eb37d_row7_col1,#T_eb37d_row7_col2,#T_eb37d_row7_col4,#T_eb37d_row7_col5,#T_eb37d_row7_col6,#T_eb37d_row8_col9,#T_eb37d_row9_col3,#T_eb37d_row9_col8{\n",
       "            background-color:  #3b4cc0;\n",
       "            color:  #f1f1f1;\n",
       "        }#T_eb37d_row6_col9,#T_eb37d_row9_col0{\n",
       "            background-color:  #4e68d8;\n",
       "            color:  #000000;\n",
       "        }#T_eb37d_row7_col3{\n",
       "            background-color:  #3d50c3;\n",
       "            color:  #f1f1f1;\n",
       "        }#T_eb37d_row7_col8{\n",
       "            background-color:  #e9d5cb;\n",
       "            color:  #000000;\n",
       "        }#T_eb37d_row7_col9,#T_eb37d_row9_col5{\n",
       "            background-color:  #445acc;\n",
       "            color:  #f1f1f1;\n",
       "        }#T_eb37d_row8_col1,#T_eb37d_row8_col2{\n",
       "            background-color:  #5572df;\n",
       "            color:  #000000;\n",
       "        }#T_eb37d_row8_col3{\n",
       "            background-color:  #4f69d9;\n",
       "            color:  #000000;\n",
       "        }#T_eb37d_row8_col4{\n",
       "            background-color:  #4961d2;\n",
       "            color:  #f1f1f1;\n",
       "        }#T_eb37d_row8_col6,#T_eb37d_row9_col1{\n",
       "            background-color:  #485fd1;\n",
       "            color:  #f1f1f1;\n",
       "        }#T_eb37d_row8_col7{\n",
       "            background-color:  #e6d7cf;\n",
       "            color:  #000000;\n",
       "        }#T_eb37d_row9_col2{\n",
       "            background-color:  #4b64d5;\n",
       "            color:  #f1f1f1;\n",
       "        }#T_eb37d_row9_col6{\n",
       "            background-color:  #455cce;\n",
       "            color:  #f1f1f1;\n",
       "        }</style><table id=\"T_eb37d_\" ><thead>    <tr>        <th class=\"blank level0\" ></th>        <th class=\"col_heading level0 col0\" >Presente</th>        <th class=\"col_heading level0 col1\" >Total_Alunos</th>        <th class=\"col_heading level0 col2\" >populacaoTCU2019</th>        <th class=\"col_heading level0 col3\" >casosAcumulado</th>        <th class=\"col_heading level0 col4\" >casosNovos</th>        <th class=\"col_heading level0 col5\" >obitosAcumulado</th>        <th class=\"col_heading level0 col6\" >obitosNovos</th>        <th class=\"col_heading level0 col7\" >Casos_per_capita</th>        <th class=\"col_heading level0 col8\" >Mortes_per_capita</th>        <th class=\"col_heading level0 col9\" >Relacao_Presenca</th>    </tr></thead><tbody>\n",
       "                <tr>\n",
       "                        <th id=\"T_eb37d_level0_row0\" class=\"row_heading level0 row0\" >Presente</th>\n",
       "                        <td id=\"T_eb37d_row0_col0\" class=\"data row0 col0\" >1.000000</td>\n",
       "                        <td id=\"T_eb37d_row0_col1\" class=\"data row0 col1\" >0.990566</td>\n",
       "                        <td id=\"T_eb37d_row0_col2\" class=\"data row0 col2\" >0.928834</td>\n",
       "                        <td id=\"T_eb37d_row0_col3\" class=\"data row0 col3\" >0.943609</td>\n",
       "                        <td id=\"T_eb37d_row0_col4\" class=\"data row0 col4\" >0.451616</td>\n",
       "                        <td id=\"T_eb37d_row0_col5\" class=\"data row0 col5\" >0.925124</td>\n",
       "                        <td id=\"T_eb37d_row0_col6\" class=\"data row0 col6\" >0.218150</td>\n",
       "                        <td id=\"T_eb37d_row0_col7\" class=\"data row0 col7\" >0.024566</td>\n",
       "                        <td id=\"T_eb37d_row0_col8\" class=\"data row0 col8\" >0.107668</td>\n",
       "                        <td id=\"T_eb37d_row0_col9\" class=\"data row0 col9\" >0.088357</td>\n",
       "            </tr>\n",
       "            <tr>\n",
       "                        <th id=\"T_eb37d_level0_row1\" class=\"row_heading level0 row1\" >Total_Alunos</th>\n",
       "                        <td id=\"T_eb37d_row1_col0\" class=\"data row1 col0\" >0.990566</td>\n",
       "                        <td id=\"T_eb37d_row1_col1\" class=\"data row1 col1\" >1.000000</td>\n",
       "                        <td id=\"T_eb37d_row1_col2\" class=\"data row1 col2\" >0.923555</td>\n",
       "                        <td id=\"T_eb37d_row1_col3\" class=\"data row1 col3\" >0.932115</td>\n",
       "                        <td id=\"T_eb37d_row1_col4\" class=\"data row1 col4\" >0.413853</td>\n",
       "                        <td id=\"T_eb37d_row1_col5\" class=\"data row1 col5\" >0.915586</td>\n",
       "                        <td id=\"T_eb37d_row1_col6\" class=\"data row1 col6\" >0.197495</td>\n",
       "                        <td id=\"T_eb37d_row1_col7\" class=\"data row1 col7\" >0.023293</td>\n",
       "                        <td id=\"T_eb37d_row1_col8\" class=\"data row1 col8\" >0.108873</td>\n",
       "                        <td id=\"T_eb37d_row1_col9\" class=\"data row1 col9\" >0.068634</td>\n",
       "            </tr>\n",
       "            <tr>\n",
       "                        <th id=\"T_eb37d_level0_row2\" class=\"row_heading level0 row2\" >populacaoTCU2019</th>\n",
       "                        <td id=\"T_eb37d_row2_col0\" class=\"data row2 col0\" >0.928834</td>\n",
       "                        <td id=\"T_eb37d_row2_col1\" class=\"data row2 col1\" >0.923555</td>\n",
       "                        <td id=\"T_eb37d_row2_col2\" class=\"data row2 col2\" >1.000000</td>\n",
       "                        <td id=\"T_eb37d_row2_col3\" class=\"data row2 col3\" >0.957317</td>\n",
       "                        <td id=\"T_eb37d_row2_col4\" class=\"data row2 col4\" >0.432610</td>\n",
       "                        <td id=\"T_eb37d_row2_col5\" class=\"data row2 col5\" >0.973655</td>\n",
       "                        <td id=\"T_eb37d_row2_col6\" class=\"data row2 col6\" >0.179645</td>\n",
       "                        <td id=\"T_eb37d_row2_col7\" class=\"data row2 col7\" >0.006080</td>\n",
       "                        <td id=\"T_eb37d_row2_col8\" class=\"data row2 col8\" >0.095011</td>\n",
       "                        <td id=\"T_eb37d_row2_col9\" class=\"data row2 col9\" >0.063739</td>\n",
       "            </tr>\n",
       "            <tr>\n",
       "                        <th id=\"T_eb37d_level0_row3\" class=\"row_heading level0 row3\" >casosAcumulado</th>\n",
       "                        <td id=\"T_eb37d_row3_col0\" class=\"data row3 col0\" >0.943609</td>\n",
       "                        <td id=\"T_eb37d_row3_col1\" class=\"data row3 col1\" >0.932115</td>\n",
       "                        <td id=\"T_eb37d_row3_col2\" class=\"data row3 col2\" >0.957317</td>\n",
       "                        <td id=\"T_eb37d_row3_col3\" class=\"data row3 col3\" >1.000000</td>\n",
       "                        <td id=\"T_eb37d_row3_col4\" class=\"data row3 col4\" >0.402104</td>\n",
       "                        <td id=\"T_eb37d_row3_col5\" class=\"data row3 col5\" >0.933725</td>\n",
       "                        <td id=\"T_eb37d_row3_col6\" class=\"data row3 col6\" >0.214378</td>\n",
       "                        <td id=\"T_eb37d_row3_col7\" class=\"data row3 col7\" >0.084812</td>\n",
       "                        <td id=\"T_eb37d_row3_col8\" class=\"data row3 col8\" >0.140930</td>\n",
       "                        <td id=\"T_eb37d_row3_col9\" class=\"data row3 col9\" >0.076626</td>\n",
       "            </tr>\n",
       "            <tr>\n",
       "                        <th id=\"T_eb37d_level0_row4\" class=\"row_heading level0 row4\" >casosNovos</th>\n",
       "                        <td id=\"T_eb37d_row4_col0\" class=\"data row4 col0\" >0.451616</td>\n",
       "                        <td id=\"T_eb37d_row4_col1\" class=\"data row4 col1\" >0.413853</td>\n",
       "                        <td id=\"T_eb37d_row4_col2\" class=\"data row4 col2\" >0.432610</td>\n",
       "                        <td id=\"T_eb37d_row4_col3\" class=\"data row4 col3\" >0.402104</td>\n",
       "                        <td id=\"T_eb37d_row4_col4\" class=\"data row4 col4\" >1.000000</td>\n",
       "                        <td id=\"T_eb37d_row4_col5\" class=\"data row4 col5\" >0.555929</td>\n",
       "                        <td id=\"T_eb37d_row4_col6\" class=\"data row4 col6\" >0.208332</td>\n",
       "                        <td id=\"T_eb37d_row4_col7\" class=\"data row4 col7\" >0.024171</td>\n",
       "                        <td id=\"T_eb37d_row4_col8\" class=\"data row4 col8\" >0.073240</td>\n",
       "                        <td id=\"T_eb37d_row4_col9\" class=\"data row4 col9\" >0.048786</td>\n",
       "            </tr>\n",
       "            <tr>\n",
       "                        <th id=\"T_eb37d_level0_row5\" class=\"row_heading level0 row5\" >obitosAcumulado</th>\n",
       "                        <td id=\"T_eb37d_row5_col0\" class=\"data row5 col0\" >0.925124</td>\n",
       "                        <td id=\"T_eb37d_row5_col1\" class=\"data row5 col1\" >0.915586</td>\n",
       "                        <td id=\"T_eb37d_row5_col2\" class=\"data row5 col2\" >0.973655</td>\n",
       "                        <td id=\"T_eb37d_row5_col3\" class=\"data row5 col3\" >0.933725</td>\n",
       "                        <td id=\"T_eb37d_row5_col4\" class=\"data row5 col4\" >0.555929</td>\n",
       "                        <td id=\"T_eb37d_row5_col5\" class=\"data row5 col5\" >1.000000</td>\n",
       "                        <td id=\"T_eb37d_row5_col6\" class=\"data row5 col6\" >0.158869</td>\n",
       "                        <td id=\"T_eb37d_row5_col7\" class=\"data row5 col7\" >0.024048</td>\n",
       "                        <td id=\"T_eb37d_row5_col8\" class=\"data row5 col8\" >0.125831</td>\n",
       "                        <td id=\"T_eb37d_row5_col9\" class=\"data row5 col9\" >0.056593</td>\n",
       "            </tr>\n",
       "            <tr>\n",
       "                        <th id=\"T_eb37d_level0_row6\" class=\"row_heading level0 row6\" >obitosNovos</th>\n",
       "                        <td id=\"T_eb37d_row6_col0\" class=\"data row6 col0\" >0.218150</td>\n",
       "                        <td id=\"T_eb37d_row6_col1\" class=\"data row6 col1\" >0.197495</td>\n",
       "                        <td id=\"T_eb37d_row6_col2\" class=\"data row6 col2\" >0.179645</td>\n",
       "                        <td id=\"T_eb37d_row6_col3\" class=\"data row6 col3\" >0.214378</td>\n",
       "                        <td id=\"T_eb37d_row6_col4\" class=\"data row6 col4\" >0.208332</td>\n",
       "                        <td id=\"T_eb37d_row6_col5\" class=\"data row6 col5\" >0.158869</td>\n",
       "                        <td id=\"T_eb37d_row6_col6\" class=\"data row6 col6\" >1.000000</td>\n",
       "                        <td id=\"T_eb37d_row6_col7\" class=\"data row6 col7\" >-0.000794</td>\n",
       "                        <td id=\"T_eb37d_row6_col8\" class=\"data row6 col8\" >0.046008</td>\n",
       "                        <td id=\"T_eb37d_row6_col9\" class=\"data row6 col9\" >0.036702</td>\n",
       "            </tr>\n",
       "            <tr>\n",
       "                        <th id=\"T_eb37d_level0_row7\" class=\"row_heading level0 row7\" >Casos_per_capita</th>\n",
       "                        <td id=\"T_eb37d_row7_col0\" class=\"data row7 col0\" >0.024566</td>\n",
       "                        <td id=\"T_eb37d_row7_col1\" class=\"data row7 col1\" >0.023293</td>\n",
       "                        <td id=\"T_eb37d_row7_col2\" class=\"data row7 col2\" >0.006080</td>\n",
       "                        <td id=\"T_eb37d_row7_col3\" class=\"data row7 col3\" >0.084812</td>\n",
       "                        <td id=\"T_eb37d_row7_col4\" class=\"data row7 col4\" >0.024171</td>\n",
       "                        <td id=\"T_eb37d_row7_col5\" class=\"data row7 col5\" >0.024048</td>\n",
       "                        <td id=\"T_eb37d_row7_col6\" class=\"data row7 col6\" >-0.000794</td>\n",
       "                        <td id=\"T_eb37d_row7_col7\" class=\"data row7 col7\" >1.000000</td>\n",
       "                        <td id=\"T_eb37d_row7_col8\" class=\"data row7 col8\" >0.536707</td>\n",
       "                        <td id=\"T_eb37d_row7_col9\" class=\"data row7 col9\" >0.003918</td>\n",
       "            </tr>\n",
       "            <tr>\n",
       "                        <th id=\"T_eb37d_level0_row8\" class=\"row_heading level0 row8\" >Mortes_per_capita</th>\n",
       "                        <td id=\"T_eb37d_row8_col0\" class=\"data row8 col0\" >0.107668</td>\n",
       "                        <td id=\"T_eb37d_row8_col1\" class=\"data row8 col1\" >0.108873</td>\n",
       "                        <td id=\"T_eb37d_row8_col2\" class=\"data row8 col2\" >0.095011</td>\n",
       "                        <td id=\"T_eb37d_row8_col3\" class=\"data row8 col3\" >0.140930</td>\n",
       "                        <td id=\"T_eb37d_row8_col4\" class=\"data row8 col4\" >0.073240</td>\n",
       "                        <td id=\"T_eb37d_row8_col5\" class=\"data row8 col5\" >0.125831</td>\n",
       "                        <td id=\"T_eb37d_row8_col6\" class=\"data row8 col6\" >0.046008</td>\n",
       "                        <td id=\"T_eb37d_row8_col7\" class=\"data row8 col7\" >0.536707</td>\n",
       "                        <td id=\"T_eb37d_row8_col8\" class=\"data row8 col8\" >1.000000</td>\n",
       "                        <td id=\"T_eb37d_row8_col9\" class=\"data row8 col9\" >-0.030649</td>\n",
       "            </tr>\n",
       "            <tr>\n",
       "                        <th id=\"T_eb37d_level0_row9\" class=\"row_heading level0 row9\" >Relacao_Presenca</th>\n",
       "                        <td id=\"T_eb37d_row9_col0\" class=\"data row9 col0\" >0.088357</td>\n",
       "                        <td id=\"T_eb37d_row9_col1\" class=\"data row9 col1\" >0.068634</td>\n",
       "                        <td id=\"T_eb37d_row9_col2\" class=\"data row9 col2\" >0.063739</td>\n",
       "                        <td id=\"T_eb37d_row9_col3\" class=\"data row9 col3\" >0.076626</td>\n",
       "                        <td id=\"T_eb37d_row9_col4\" class=\"data row9 col4\" >0.048786</td>\n",
       "                        <td id=\"T_eb37d_row9_col5\" class=\"data row9 col5\" >0.056593</td>\n",
       "                        <td id=\"T_eb37d_row9_col6\" class=\"data row9 col6\" >0.036702</td>\n",
       "                        <td id=\"T_eb37d_row9_col7\" class=\"data row9 col7\" >0.003918</td>\n",
       "                        <td id=\"T_eb37d_row9_col8\" class=\"data row9 col8\" >-0.030649</td>\n",
       "                        <td id=\"T_eb37d_row9_col9\" class=\"data row9 col9\" >1.000000</td>\n",
       "            </tr>\n",
       "    </tbody></table>"
      ],
      "text/plain": [
       "<pandas.io.formats.style.Styler at 0x240ecee38e0>"
      ]
     },
     "execution_count": 122,
     "metadata": {},
     "output_type": "execute_result"
    }
   ],
   "source": [
    "corr = df_merge.corr()\n",
    "corr.style.background_gradient(cmap='coolwarm')"
   ]
  }
 ],
 "metadata": {
  "interpreter": {
   "hash": "14ee59fd5025dbd96755ef3b4a7cd31ca509c299e27f1bf66484e018f3b13dd8"
  },
  "kernelspec": {
   "display_name": "Python 3.8.5 64-bit",
   "language": "python",
   "name": "python3"
  },
  "language_info": {
   "codemirror_mode": {
    "name": "ipython",
    "version": 3
   },
   "file_extension": ".py",
   "mimetype": "text/x-python",
   "name": "python",
   "nbconvert_exporter": "python",
   "pygments_lexer": "ipython3",
   "version": "3.8.5"
  },
  "orig_nbformat": 4
 },
 "nbformat": 4,
 "nbformat_minor": 2
}
