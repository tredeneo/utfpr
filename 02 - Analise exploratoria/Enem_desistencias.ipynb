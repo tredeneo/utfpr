{
 "cells": [
  {
   "cell_type": "code",
   "execution_count": 1,
   "id": "7d68be2c",
   "metadata": {},
   "outputs": [],
   "source": [
    "import pandas as pd"
   ]
  },
  {
   "cell_type": "code",
   "execution_count": null,
   "id": "9a9265a6",
   "metadata": {},
   "outputs": [],
   "source": [
    "df = pd.read_csv('enem 2015 - 2018/2015_microdados_pa.csv')"
   ]
  },
  {
   "cell_type": "code",
   "execution_count": null,
   "id": "e68bcaf5",
   "metadata": {},
   "outputs": [],
   "source": [
    "df2 = df.groupby(['SG_UF_RESIDENCIA'])['SG_UF_RESIDENCIA'].count()"
   ]
  },
  {
   "cell_type": "code",
   "execution_count": null,
   "id": "1656898a",
   "metadata": {},
   "outputs": [],
   "source": [
    "df2"
   ]
  },
  {
   "cell_type": "code",
   "execution_count": null,
   "id": "1b192014",
   "metadata": {
    "scrolled": true
   },
   "outputs": [],
   "source": [
    "df "
   ]
  },
  {
   "cell_type": "code",
   "execution_count": null,
   "id": "40aef3a9",
   "metadata": {},
   "outputs": [],
   "source": [
    "df_2015 = df[['NU_INSCRICAO', 'CO_MUNICIPIO_RESIDENCIA', 'NO_MUNICIPIO_RESIDENCIA', 'SG_UF_RESIDENCIA', 'TP_ST_CONCLUSAO', 'TP_ANO_CONCLUIU', 'CO_MUNICIPIO_ESC', 'NO_MUNICIPIO_ESC', 'SG_UF_ESC', 'CO_MUNICIPIO_PROVA', 'NO_MUNICIPIO_PROVA', 'SG_UF_PROVA', 'TP_PRESENCA_CN', 'TP_PRESENCA_CH', 'TP_PRESENCA_LC', 'TP_PRESENCA_MT']]"
   ]
  },
  {
   "cell_type": "code",
   "execution_count": null,
   "id": "9c2944f0",
   "metadata": {},
   "outputs": [],
   "source": [
    "df_2015"
   ]
  },
  {
   "cell_type": "code",
   "execution_count": 11,
   "id": "de815f93",
   "metadata": {},
   "outputs": [
    {
     "data": {
      "text/plain": [
       "0    3184243\n",
       "1    2597440\n",
       "2       1426\n",
       "Name: TP_PRESENCA_CN, dtype: int64"
      ]
     },
     "execution_count": 11,
     "metadata": {},
     "output_type": "execute_result"
    }
   ],
   "source": [
    "array_df = []\n",
    "for chunk in pd.read_csv('enem_2020/DADOS/MICRODADOS_ENEM_2020.csv', encoding='Latin1', sep=';', chunksize = 100000):\n",
    "    array_df.append(chunk['TP_PRESENCA_CN'].value_counts())\n",
    "df = pd.concat(array_df, ignore_index=False)\n",
    "df.groupby(level=0).sum()"
   ]
  },
  {
   "cell_type": "code",
   "execution_count": 12,
   "id": "6c0508ec",
   "metadata": {},
   "outputs": [
    {
     "data": {
      "text/plain": [
       "0    1382925\n",
       "1    3710433\n",
       "2       1912\n",
       "Name: TP_PRESENCA_CN, dtype: int64"
      ]
     },
     "execution_count": 12,
     "metadata": {},
     "output_type": "execute_result"
    }
   ],
   "source": [
    "array_df = []\n",
    "for chunk in pd.read_csv('enem 2019/DADOS/MICRODADOS_ENEM_2019.csv', encoding='Latin1', sep=';', chunksize = 100000):\n",
    "    array_df.append(chunk['TP_PRESENCA_CN'].value_counts())\n",
    "df = pd.concat(array_df, ignore_index=False)\n",
    "df.groupby(level=0).sum()"
   ]
  },
  {
   "cell_type": "code",
   "execution_count": 13,
   "id": "2465b3de",
   "metadata": {},
   "outputs": [
    {
     "data": {
      "text/plain": [
       "0.0    1607796\n",
       "1.0    3905099\n",
       "2.0        697\n",
       "Name: TP_PRESENCA_CN, dtype: int64"
      ]
     },
     "execution_count": 13,
     "metadata": {},
     "output_type": "execute_result"
    }
   ],
   "source": [
    "array_df = []\n",
    "for chunk in pd.read_csv('enem 2018/DADOS/MICRODADOS_ENEM_2018.csv', encoding='Latin1', sep=';', chunksize = 100000):\n",
    "    array_df.append(chunk['TP_PRESENCA_CN'].value_counts())\n",
    "df = pd.concat(array_df, ignore_index=False)\n",
    "df.groupby(level=0).sum()"
   ]
  },
  {
   "cell_type": "code",
   "execution_count": 14,
   "id": "1c2ab8c4",
   "metadata": {},
   "outputs": [
    {
     "data": {
      "text/plain": [
       "0.0    2292509\n",
       "1.0    4437560\n",
       "2.0       1045\n",
       "Name: TP_PRESENCA_MT, dtype: int64"
      ]
     },
     "execution_count": 14,
     "metadata": {},
     "output_type": "execute_result"
    }
   ],
   "source": [
    "array_df = []\n",
    "for chunk in pd.read_csv('MICRODADOS_ENEM_2017.csv', encoding='Latin1', sep=';', chunksize = 100000):\n",
    "    array_df.append(chunk['TP_PRESENCA_MT'].value_counts())\n",
    "df = pd.concat(array_df, ignore_index=False)\n",
    "df.groupby(level=0).sum()"
   ]
  },
  {
   "cell_type": "code",
   "execution_count": 15,
   "id": "3e54bf68",
   "metadata": {},
   "outputs": [
    {
     "data": {
      "text/plain": [
       "0.0    2777393\n",
       "1.0    5844971\n",
       "2.0       4629\n",
       "Name: TP_PRESENCA_MT, dtype: int64"
      ]
     },
     "execution_count": 15,
     "metadata": {},
     "output_type": "execute_result"
    }
   ],
   "source": [
    "array_df = []\n",
    "for chunk in pd.read_csv('microdados_enem_2016.csv', encoding='Latin1', sep=';', chunksize = 100000):\n",
    "    array_df.append(chunk['TP_PRESENCA_MT'].value_counts())\n",
    "df = pd.concat(array_df, ignore_index=False)\n",
    "df.groupby(level=0).sum()"
   ]
  },
  {
   "cell_type": "code",
   "execution_count": 3,
   "id": "f2fb6a3b",
   "metadata": {},
   "outputs": [
    {
     "data": {
      "text/plain": [
       "0.0    214563\n",
       "1.0    490232\n",
       "2.0       471\n",
       "Name: TP_PRESENCA_MT, dtype: int64"
      ]
     },
     "execution_count": 3,
     "metadata": {},
     "output_type": "execute_result"
    }
   ],
   "source": [
    "array_df = []\n",
    "for chunk in pd.read_csv('Enem 2015/ENEM_2015_SMALL_CO.csv', encoding='Latin1', sep=',', chunksize = 100000):\n",
    "    array_df.append(chunk['TP_PRESENCA_MT'].value_counts())\n",
    "df_co = pd.concat(array_df, ignore_index=False)\n",
    "df_co.groupby(level=0).sum()"
   ]
  },
  {
   "cell_type": "code",
   "execution_count": 5,
   "id": "86ed6109",
   "metadata": {},
   "outputs": [
    {
     "data": {
      "text/plain": [
       "0.0    321236\n",
       "1.0    893670\n",
       "2.0       618\n",
       "Name: TP_PRESENCA_MT, dtype: int64"
      ]
     },
     "execution_count": 5,
     "metadata": {},
     "output_type": "execute_result"
    }
   ],
   "source": [
    "array_df = []\n",
    "for chunk in pd.read_csv('Enem 2015/ENEM_2015_SMALL_NE1.csv', encoding='Latin1', sep=',', chunksize = 100000):\n",
    "    array_df.append(chunk['TP_PRESENCA_MT'].value_counts())\n",
    "df_ne1 = pd.concat(array_df, ignore_index=False)\n",
    "df_ne1.groupby(level=0).sum()"
   ]
  },
  {
   "cell_type": "code",
   "execution_count": 6,
   "id": "ca7f765e",
   "metadata": {},
   "outputs": [
    {
     "data": {
      "text/plain": [
       "0.0    307291\n",
       "1.0    957614\n",
       "2.0       712\n",
       "Name: TP_PRESENCA_MT, dtype: int64"
      ]
     },
     "execution_count": 6,
     "metadata": {},
     "output_type": "execute_result"
    }
   ],
   "source": [
    "array_df = []\n",
    "for chunk in pd.read_csv('Enem 2015/ENEM_2015_SMALL_NE2.csv', encoding='Latin1', sep=',', chunksize = 100000):\n",
    "    array_df.append(chunk['TP_PRESENCA_MT'].value_counts())\n",
    "df_ne2 = pd.concat(array_df, ignore_index=False)\n",
    "df_ne2.groupby(level=0).sum()"
   ]
  },
  {
   "cell_type": "code",
   "execution_count": 7,
   "id": "32dd6007",
   "metadata": {},
   "outputs": [
    {
     "data": {
      "text/plain": [
       "0.0    231413\n",
       "1.0    583363\n",
       "2.0       494\n",
       "Name: TP_PRESENCA_MT, dtype: int64"
      ]
     },
     "execution_count": 7,
     "metadata": {},
     "output_type": "execute_result"
    }
   ],
   "source": [
    "array_df = []\n",
    "for chunk in pd.read_csv('Enem 2015/ENEM_2015_SMALL_NO.csv', encoding='Latin1', sep=',', chunksize = 100000):\n",
    "    array_df.append(chunk['TP_PRESENCA_MT'].value_counts())\n",
    "df_no = pd.concat(array_df, ignore_index=False)\n",
    "df_no.groupby(level=0).sum()"
   ]
  },
  {
   "cell_type": "code",
   "execution_count": 8,
   "id": "2ef3ea3f",
   "metadata": {},
   "outputs": [
    {
     "data": {
      "text/plain": [
       "0.0    358773\n",
       "1.0    897937\n",
       "2.0       678\n",
       "Name: TP_PRESENCA_MT, dtype: int64"
      ]
     },
     "execution_count": 8,
     "metadata": {},
     "output_type": "execute_result"
    }
   ],
   "source": [
    "array_df = []\n",
    "for chunk in pd.read_csv('Enem 2015/ENEM_2015_SMALL_SE1.csv', encoding='Latin1', sep=',', chunksize = 100000):\n",
    "    array_df.append(chunk['TP_PRESENCA_MT'].value_counts())\n",
    "df_se1 = pd.concat(array_df, ignore_index=False)\n",
    "df_se1.groupby(level=0).sum()"
   ]
  },
  {
   "cell_type": "code",
   "execution_count": 9,
   "id": "a327ad30",
   "metadata": {},
   "outputs": [
    {
     "data": {
      "text/plain": [
       "0.0     433748\n",
       "1.0    1132630\n",
       "2.0        931\n",
       "Name: TP_PRESENCA_MT, dtype: int64"
      ]
     },
     "execution_count": 9,
     "metadata": {},
     "output_type": "execute_result"
    }
   ],
   "source": [
    "array_df = []\n",
    "for chunk in pd.read_csv('Enem 2015/ENEM_2015_SMALL_SE2.csv', encoding='Latin1', sep=',', chunksize = 100000):\n",
    "    array_df.append(chunk['TP_PRESENCA_MT'].value_counts())\n",
    "df_se2 = pd.concat(array_df, ignore_index=False)\n",
    "df_se2.groupby(level=0).sum()"
   ]
  },
  {
   "cell_type": "code",
   "execution_count": 10,
   "id": "9a0ecfb9",
   "metadata": {},
   "outputs": [
    {
     "data": {
      "text/plain": [
       "0.0    249212\n",
       "1.0    670094\n",
       "2.0       428\n",
       "Name: TP_PRESENCA_MT, dtype: int64"
      ]
     },
     "execution_count": 10,
     "metadata": {},
     "output_type": "execute_result"
    }
   ],
   "source": [
    "array_df = []\n",
    "for chunk in pd.read_csv('Enem 2015/ENEM_2015_SMALL_SU.csv', encoding='Latin1', sep=',', chunksize = 100000):\n",
    "    array_df.append(chunk['TP_PRESENCA_MT'].value_counts())\n",
    "df_su = pd.concat(array_df, ignore_index=False)\n",
    "df_su.groupby(level=0).sum()"
   ]
  },
  {
   "cell_type": "code",
   "execution_count": null,
   "id": "131033e6",
   "metadata": {},
   "outputs": [],
   "source": []
  }
 ],
 "metadata": {
  "kernelspec": {
   "display_name": "Python 3 (ipykernel)",
   "language": "python",
   "name": "python3"
  },
  "language_info": {
   "codemirror_mode": {
    "name": "ipython",
    "version": 3
   },
   "file_extension": ".py",
   "mimetype": "text/x-python",
   "name": "python",
   "nbconvert_exporter": "python",
   "pygments_lexer": "ipython3",
   "version": "3.9.7"
  }
 },
 "nbformat": 4,
 "nbformat_minor": 5
}
