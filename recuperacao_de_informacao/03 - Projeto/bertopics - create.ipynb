{
 "cells": [
  {
   "cell_type": "code",
   "execution_count": 1,
   "metadata": {},
   "outputs": [
    {
     "name": "stderr",
     "output_type": "stream",
     "text": [
      "c:\\Users\\edupo\\.conda\\envs\\recinfo\\Lib\\site-packages\\umap\\distances.py:1063: NumbaDeprecationWarning: \u001b[1mThe 'nopython' keyword argument was not supplied to the 'numba.jit' decorator. The implicit default value for this argument is currently False, but it will be changed to True in Numba 0.59.0. See https://numba.readthedocs.io/en/stable/reference/deprecation.html#deprecation-of-object-mode-fall-back-behaviour-when-using-jit for details.\u001b[0m\n",
      "  @numba.jit()\n",
      "c:\\Users\\edupo\\.conda\\envs\\recinfo\\Lib\\site-packages\\umap\\distances.py:1071: NumbaDeprecationWarning: \u001b[1mThe 'nopython' keyword argument was not supplied to the 'numba.jit' decorator. The implicit default value for this argument is currently False, but it will be changed to True in Numba 0.59.0. See https://numba.readthedocs.io/en/stable/reference/deprecation.html#deprecation-of-object-mode-fall-back-behaviour-when-using-jit for details.\u001b[0m\n",
      "  @numba.jit()\n",
      "c:\\Users\\edupo\\.conda\\envs\\recinfo\\Lib\\site-packages\\umap\\distances.py:1086: NumbaDeprecationWarning: \u001b[1mThe 'nopython' keyword argument was not supplied to the 'numba.jit' decorator. The implicit default value for this argument is currently False, but it will be changed to True in Numba 0.59.0. See https://numba.readthedocs.io/en/stable/reference/deprecation.html#deprecation-of-object-mode-fall-back-behaviour-when-using-jit for details.\u001b[0m\n",
      "  @numba.jit()\n",
      "c:\\Users\\edupo\\.conda\\envs\\recinfo\\Lib\\site-packages\\tqdm\\auto.py:21: TqdmWarning: IProgress not found. Please update jupyter and ipywidgets. See https://ipywidgets.readthedocs.io/en/stable/user_install.html\n",
      "  from .autonotebook import tqdm as notebook_tqdm\n",
      "c:\\Users\\edupo\\.conda\\envs\\recinfo\\Lib\\site-packages\\umap\\umap_.py:660: NumbaDeprecationWarning: \u001b[1mThe 'nopython' keyword argument was not supplied to the 'numba.jit' decorator. The implicit default value for this argument is currently False, but it will be changed to True in Numba 0.59.0. See https://numba.readthedocs.io/en/stable/reference/deprecation.html#deprecation-of-object-mode-fall-back-behaviour-when-using-jit for details.\u001b[0m\n",
      "  @numba.jit()\n"
     ]
    }
   ],
   "source": [
    "import pandas as pd\n",
    "\n",
    "from umap import UMAP\n",
    "from hdbscan import HDBSCAN\n",
    "from sentence_transformers import SentenceTransformer\n",
    "from sklearn.feature_extraction.text import CountVectorizer\n",
    "\n",
    "from bertopic import BERTopic\n",
    "from bertopic.representation import KeyBERTInspired\n",
    "from bertopic.vectorizers import ClassTfidfTransformer\n",
    "\n",
    "import re"
   ]
  },
  {
   "cell_type": "code",
   "execution_count": 2,
   "metadata": {},
   "outputs": [],
   "source": [
    "# df = pd.read_parquet(\"../Dados/tratados.parquet\",columns=[\"lemmatized\",\"title\"])\n",
    "df = pd.read_parquet(\"../Dados/tratados.parquet\",columns=[\"review\",\"title\"])\n",
    "# df = pd.read_csv('../Dados/steam_reviews.csv')"
   ]
  },
  {
   "cell_type": "code",
   "execution_count": 3,
   "metadata": {},
   "outputs": [
    {
     "data": {
      "text/html": [
       "<div>\n",
       "<style scoped>\n",
       "    .dataframe tbody tr th:only-of-type {\n",
       "        vertical-align: middle;\n",
       "    }\n",
       "\n",
       "    .dataframe tbody tr th {\n",
       "        vertical-align: top;\n",
       "    }\n",
       "\n",
       "    .dataframe thead th {\n",
       "        text-align: right;\n",
       "    }\n",
       "</style>\n",
       "<table border=\"1\" class=\"dataframe\">\n",
       "  <thead>\n",
       "    <tr style=\"text-align: right;\">\n",
       "      <th></th>\n",
       "      <th>review</th>\n",
       "      <th>title</th>\n",
       "    </tr>\n",
       "  </thead>\n",
       "  <tbody>\n",
       "    <tr>\n",
       "      <th>0</th>\n",
       "      <td>Out of all the reviews I wrote This one is pro...</td>\n",
       "      <td>Dead by Daylight</td>\n",
       "    </tr>\n",
       "    <tr>\n",
       "      <th>1</th>\n",
       "      <td>Disclaimer I survivor main. I play games for f...</td>\n",
       "      <td>Dead by Daylight</td>\n",
       "    </tr>\n",
       "    <tr>\n",
       "      <th>2</th>\n",
       "      <td>Out of all the reviews I wrote This one is pro...</td>\n",
       "      <td>Dead by Daylight</td>\n",
       "    </tr>\n",
       "    <tr>\n",
       "      <th>3</th>\n",
       "      <td>I have never been told to kill myself more tha...</td>\n",
       "      <td>Dead by Daylight</td>\n",
       "    </tr>\n",
       "    <tr>\n",
       "      <th>4</th>\n",
       "      <td>Any longtime Dead by Daylight player knows tha...</td>\n",
       "      <td>Dead by Daylight</td>\n",
       "    </tr>\n",
       "    <tr>\n",
       "      <th>...</th>\n",
       "      <td>...</td>\n",
       "      <td>...</td>\n",
       "    </tr>\n",
       "    <tr>\n",
       "      <th>398586</th>\n",
       "      <td>Funny</td>\n",
       "      <td>Human: Fall Flat</td>\n",
       "    </tr>\n",
       "    <tr>\n",
       "      <th>398587</th>\n",
       "      <td>great game although my its annoying when your ...</td>\n",
       "      <td>Human: Fall Flat</td>\n",
       "    </tr>\n",
       "    <tr>\n",
       "      <th>398588</th>\n",
       "      <td>Amazingly fun )</td>\n",
       "      <td>Human: Fall Flat</td>\n",
       "    </tr>\n",
       "    <tr>\n",
       "      <th>398589</th>\n",
       "      <td>I would rate this game average.The game physic...</td>\n",
       "      <td>Human: Fall Flat</td>\n",
       "    </tr>\n",
       "    <tr>\n",
       "      <th>398590</th>\n",
       "      <td>I HATE THE CONTROLS SO GOD DAMN MUCH it's so f...</td>\n",
       "      <td>Human: Fall Flat</td>\n",
       "    </tr>\n",
       "  </tbody>\n",
       "</table>\n",
       "<p>398591 rows × 2 columns</p>\n",
       "</div>"
      ],
      "text/plain": [
       "                                                   review             title\n",
       "0       Out of all the reviews I wrote This one is pro...  Dead by Daylight\n",
       "1       Disclaimer I survivor main. I play games for f...  Dead by Daylight\n",
       "2       Out of all the reviews I wrote This one is pro...  Dead by Daylight\n",
       "3       I have never been told to kill myself more tha...  Dead by Daylight\n",
       "4       Any longtime Dead by Daylight player knows tha...  Dead by Daylight\n",
       "...                                                   ...               ...\n",
       "398586                                              Funny  Human: Fall Flat\n",
       "398587  great game although my its annoying when your ...  Human: Fall Flat\n",
       "398588                                    Amazingly fun )  Human: Fall Flat\n",
       "398589  I would rate this game average.The game physic...  Human: Fall Flat\n",
       "398590  I HATE THE CONTROLS SO GOD DAMN MUCH it's so f...  Human: Fall Flat\n",
       "\n",
       "[398591 rows x 2 columns]"
      ]
     },
     "execution_count": 3,
     "metadata": {},
     "output_type": "execute_result"
    }
   ],
   "source": [
    "df"
   ]
  },
  {
   "cell_type": "code",
   "execution_count": 4,
   "metadata": {},
   "outputs": [],
   "source": [
    "df = df[['review', 'title']]"
   ]
  },
  {
   "cell_type": "code",
   "execution_count": 5,
   "metadata": {},
   "outputs": [
    {
     "data": {
      "text/html": [
       "<div>\n",
       "<style scoped>\n",
       "    .dataframe tbody tr th:only-of-type {\n",
       "        vertical-align: middle;\n",
       "    }\n",
       "\n",
       "    .dataframe tbody tr th {\n",
       "        vertical-align: top;\n",
       "    }\n",
       "\n",
       "    .dataframe thead th {\n",
       "        text-align: right;\n",
       "    }\n",
       "</style>\n",
       "<table border=\"1\" class=\"dataframe\">\n",
       "  <thead>\n",
       "    <tr style=\"text-align: right;\">\n",
       "      <th></th>\n",
       "      <th>review</th>\n",
       "      <th>title</th>\n",
       "    </tr>\n",
       "  </thead>\n",
       "  <tbody>\n",
       "    <tr>\n",
       "      <th>0</th>\n",
       "      <td>Out of all the reviews I wrote This one is pro...</td>\n",
       "      <td>Dead by Daylight</td>\n",
       "    </tr>\n",
       "    <tr>\n",
       "      <th>1</th>\n",
       "      <td>Disclaimer I survivor main. I play games for f...</td>\n",
       "      <td>Dead by Daylight</td>\n",
       "    </tr>\n",
       "    <tr>\n",
       "      <th>2</th>\n",
       "      <td>Out of all the reviews I wrote This one is pro...</td>\n",
       "      <td>Dead by Daylight</td>\n",
       "    </tr>\n",
       "    <tr>\n",
       "      <th>3</th>\n",
       "      <td>I have never been told to kill myself more tha...</td>\n",
       "      <td>Dead by Daylight</td>\n",
       "    </tr>\n",
       "    <tr>\n",
       "      <th>4</th>\n",
       "      <td>Any longtime Dead by Daylight player knows tha...</td>\n",
       "      <td>Dead by Daylight</td>\n",
       "    </tr>\n",
       "    <tr>\n",
       "      <th>...</th>\n",
       "      <td>...</td>\n",
       "      <td>...</td>\n",
       "    </tr>\n",
       "    <tr>\n",
       "      <th>398586</th>\n",
       "      <td>Funny</td>\n",
       "      <td>Human: Fall Flat</td>\n",
       "    </tr>\n",
       "    <tr>\n",
       "      <th>398587</th>\n",
       "      <td>great game although my its annoying when your ...</td>\n",
       "      <td>Human: Fall Flat</td>\n",
       "    </tr>\n",
       "    <tr>\n",
       "      <th>398588</th>\n",
       "      <td>Amazingly fun )</td>\n",
       "      <td>Human: Fall Flat</td>\n",
       "    </tr>\n",
       "    <tr>\n",
       "      <th>398589</th>\n",
       "      <td>I would rate this game average.The game physic...</td>\n",
       "      <td>Human: Fall Flat</td>\n",
       "    </tr>\n",
       "    <tr>\n",
       "      <th>398590</th>\n",
       "      <td>I HATE THE CONTROLS SO GOD DAMN MUCH it's so f...</td>\n",
       "      <td>Human: Fall Flat</td>\n",
       "    </tr>\n",
       "  </tbody>\n",
       "</table>\n",
       "<p>398591 rows × 2 columns</p>\n",
       "</div>"
      ],
      "text/plain": [
       "                                                   review             title\n",
       "0       Out of all the reviews I wrote This one is pro...  Dead by Daylight\n",
       "1       Disclaimer I survivor main. I play games for f...  Dead by Daylight\n",
       "2       Out of all the reviews I wrote This one is pro...  Dead by Daylight\n",
       "3       I have never been told to kill myself more tha...  Dead by Daylight\n",
       "4       Any longtime Dead by Daylight player knows tha...  Dead by Daylight\n",
       "...                                                   ...               ...\n",
       "398586                                              Funny  Human: Fall Flat\n",
       "398587  great game although my its annoying when your ...  Human: Fall Flat\n",
       "398588                                    Amazingly fun )  Human: Fall Flat\n",
       "398589  I would rate this game average.The game physic...  Human: Fall Flat\n",
       "398590  I HATE THE CONTROLS SO GOD DAMN MUCH it's so f...  Human: Fall Flat\n",
       "\n",
       "[398591 rows x 2 columns]"
      ]
     },
     "execution_count": 5,
     "metadata": {},
     "output_type": "execute_result"
    }
   ],
   "source": [
    "df"
   ]
  },
  {
   "cell_type": "code",
   "execution_count": 6,
   "metadata": {},
   "outputs": [],
   "source": [
    "# Step 1 - Extract embeddings\n",
    "embedding_model = SentenceTransformer(\"all-MiniLM-L6-v2\")\n",
    "\n",
    "# Step 2 - Reduce dimensionality\n",
    "umap_model = UMAP(n_neighbors=15, n_components=5, min_dist=0.0, metric='cosine')\n",
    "\n",
    "# Step 3 - Cluster reduced embeddings\n",
    "hdbscan_model = HDBSCAN(min_cluster_size=15, metric='euclidean', cluster_selection_method='eom', prediction_data=True)\n",
    "\n",
    "# Step 4 - Tokenize topics\n",
    "vectorizer_model = CountVectorizer(stop_words=\"english\")\n",
    "\n",
    "# Step 5 - Create topic representation\n",
    "ctfidf_model = ClassTfidfTransformer()\n",
    "\n",
    "# Step 6 - (Optional) Fine-tune topic representations with \n",
    "# a 'bertopic.representation' model\n",
    "representation_model = KeyBERTInspired()\n",
    "\n",
    "# All steps together\n",
    "topic_model = BERTopic(\n",
    "  embedding_model=embedding_model,          # Step 1 - Extract embeddings\n",
    "  umap_model=umap_model,                    # Step 2 - Reduce dimensionality\n",
    "  hdbscan_model=hdbscan_model,              # Step 3 - Cluster reduced embeddings\n",
    "  vectorizer_model=vectorizer_model,        # Step 4 - Tokenize topics\n",
    "  ctfidf_model=ctfidf_model,                # Step 5 - Extract topic words\n",
    "  representation_model=representation_model # Step 6 - (Optional) Fine-tune topic represenations\n",
    ")"
   ]
  },
  {
   "cell_type": "code",
   "execution_count": 7,
   "metadata": {},
   "outputs": [],
   "source": [
    "mask = df['review'].str.len() >=1\n",
    "df = df.loc[mask]\n",
    "df['review'] = df['review'].astype('str')"
   ]
  },
  {
   "cell_type": "code",
   "execution_count": 8,
   "metadata": {},
   "outputs": [],
   "source": [
    "df_dbd = df.loc[df['title'] == 'Dead by Daylight']\n",
    "docs = df_dbd['review'].to_list()"
   ]
  },
  {
   "cell_type": "code",
   "execution_count": 9,
   "metadata": {},
   "outputs": [],
   "source": [
    "counts = df['title'].value_counts()\n",
    "titulos_mais_de_10_reviews = counts[counts > 10].index.tolist()\n",
    "df = df[df['title'].isin(titulos_mais_de_10_reviews)]"
   ]
  },
  {
   "cell_type": "code",
   "execution_count": 10,
   "metadata": {},
   "outputs": [
    {
     "name": "stdout",
     "output_type": "stream",
     "text": [
      "ARK: Survival Evolved\n",
      "ark survival evolved\n",
      "ASTRONEER\n",
      "astroneer\n",
      "Dead by Daylight\n",
      "dead by daylight\n"
     ]
    },
    {
     "name": "stderr",
     "output_type": "stream",
     "text": [
      "c:\\Users\\edupo\\.conda\\envs\\recinfo\\Lib\\site-packages\\scipy\\sparse\\_index.py:146: SparseEfficiencyWarning: Changing the sparsity structure of a csr_matrix is expensive. lil_matrix is more efficient.\n",
      "  self._set_arrayXarray(i, j, x)\n"
     ]
    },
    {
     "name": "stdout",
     "output_type": "stream",
     "text": [
      "Divinity: Original Sin 2 - Definitive Edition\n",
      "divinity original sin 2  definitive edition\n",
      "Don't Starve Together\n",
      "dont starve together\n",
      "Euro Truck Simulator 2\n",
      "euro truck simulator 2\n",
      "Factorio\n",
      "factorio\n",
      "Garry's Mod\n",
      "garrys mod\n",
      "Grand Theft Auto V\n",
      "grand theft auto v\n"
     ]
    },
    {
     "name": "stderr",
     "output_type": "stream",
     "text": [
      "c:\\Users\\edupo\\.conda\\envs\\recinfo\\Lib\\site-packages\\scipy\\sparse\\_index.py:146: SparseEfficiencyWarning: Changing the sparsity structure of a csr_matrix is expensive. lil_matrix is more efficient.\n",
      "  self._set_arrayXarray(i, j, x)\n"
     ]
    },
    {
     "name": "stdout",
     "output_type": "stream",
     "text": [
      "Human: Fall Flat\n",
      "human fall flat\n",
      "Insurgency: Sandstorm\n",
      "insurgency sandstorm\n",
      "Left 4 Dead 2\n",
      "left 4 dead 2\n",
      "MONSTER HUNTER: WORLD\n",
      "monster hunter world\n"
     ]
    },
    {
     "name": "stderr",
     "output_type": "stream",
     "text": [
      "c:\\Users\\edupo\\.conda\\envs\\recinfo\\Lib\\site-packages\\scipy\\sparse\\_index.py:146: SparseEfficiencyWarning: Changing the sparsity structure of a csr_matrix is expensive. lil_matrix is more efficient.\n",
      "  self._set_arrayXarray(i, j, x)\n"
     ]
    },
    {
     "name": "stdout",
     "output_type": "stream",
     "text": [
      "PLAYERUNKNOWN'S BATTLEGROUNDS\n",
      "playerunknowns battlegrounds\n"
     ]
    },
    {
     "name": "stderr",
     "output_type": "stream",
     "text": [
      "c:\\Users\\edupo\\.conda\\envs\\recinfo\\Lib\\site-packages\\scipy\\sparse\\_index.py:146: SparseEfficiencyWarning: Changing the sparsity structure of a csr_matrix is expensive. lil_matrix is more efficient.\n",
      "  self._set_arrayXarray(i, j, x)\n"
     ]
    },
    {
     "name": "stdout",
     "output_type": "stream",
     "text": [
      "RESIDENT EVIL 2\n",
      "resident evil 2\n",
      "RimWorld\n",
      "rimworld\n",
      "Rocket League®\n",
      "rocket league\n"
     ]
    },
    {
     "name": "stderr",
     "output_type": "stream",
     "text": [
      "c:\\Users\\edupo\\.conda\\envs\\recinfo\\Lib\\site-packages\\scipy\\sparse\\_index.py:146: SparseEfficiencyWarning: Changing the sparsity structure of a csr_matrix is expensive. lil_matrix is more efficient.\n",
      "  self._set_arrayXarray(i, j, x)\n"
     ]
    },
    {
     "name": "stdout",
     "output_type": "stream",
     "text": [
      "Rust\n",
      "rust\n"
     ]
    },
    {
     "name": "stderr",
     "output_type": "stream",
     "text": [
      "c:\\Users\\edupo\\.conda\\envs\\recinfo\\Lib\\site-packages\\scipy\\sparse\\_index.py:146: SparseEfficiencyWarning: Changing the sparsity structure of a csr_matrix is expensive. lil_matrix is more efficient.\n",
      "  self._set_arrayXarray(i, j, x)\n"
     ]
    },
    {
     "name": "stdout",
     "output_type": "stream",
     "text": [
      "Sid Meier’s Civilization® VI\n",
      "sid meiers civilization vi\n",
      "Slay the Spire\n",
      "slay the spire\n",
      "Stardew Valley\n",
      "stardew valley\n",
      "Subnautica\n",
      "subnautica\n",
      "Terraria\n",
      "terraria\n",
      "The Elder Scrolls V: Skyrim Special Edition\n",
      "the elder scrolls v skyrim special edition\n"
     ]
    }
   ],
   "source": [
    "tmp = df.groupby([\"title\"])[\"title\"].first()\n",
    "\n",
    "for jogo in tmp:\n",
    "    print(jogo)\n",
    "    jogo_atual = df[df[\"title\"] == jogo]\n",
    "    \n",
    "    # print(jogo_atual['review'].to_list())\n",
    "    jogo = re.sub(r'[^\\w\\s]', '', jogo) # Remove pontuação\n",
    "    jogo = re.sub(r'[^\\x00-\\x7F]+', '', jogo) # Remove caracteres especiais\n",
    "    jogo = jogo.lower().strip()\n",
    "    print(jogo)\n",
    "\n",
    "    topics, probs = topic_model.fit_transform(jogo_atual['review'].to_list())\n",
    "    topic_model.save(\"../Dados/bertopics/modelo_\" + jogo)\n"
   ]
  }
 ],
 "metadata": {
  "kernelspec": {
   "display_name": "recinfo",
   "language": "python",
   "name": "python3"
  },
  "language_info": {
   "codemirror_mode": {
    "name": "ipython",
    "version": 3
   },
   "file_extension": ".py",
   "mimetype": "text/x-python",
   "name": "python",
   "nbconvert_exporter": "python",
   "pygments_lexer": "ipython3",
   "version": "3.11.3"
  },
  "orig_nbformat": 4
 },
 "nbformat": 4,
 "nbformat_minor": 2
}
