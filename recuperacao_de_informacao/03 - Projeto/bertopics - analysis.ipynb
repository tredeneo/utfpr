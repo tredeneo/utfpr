{
 "cells": [
  {
   "cell_type": "code",
   "execution_count": 1,
   "metadata": {},
   "outputs": [
    {
     "name": "stderr",
     "output_type": "stream",
     "text": [
      "c:\\Users\\edupo\\.conda\\envs\\recinfo\\Lib\\site-packages\\umap\\distances.py:1063: NumbaDeprecationWarning: \u001b[1mThe 'nopython' keyword argument was not supplied to the 'numba.jit' decorator. The implicit default value for this argument is currently False, but it will be changed to True in Numba 0.59.0. See https://numba.readthedocs.io/en/stable/reference/deprecation.html#deprecation-of-object-mode-fall-back-behaviour-when-using-jit for details.\u001b[0m\n",
      "  @numba.jit()\n",
      "c:\\Users\\edupo\\.conda\\envs\\recinfo\\Lib\\site-packages\\umap\\distances.py:1071: NumbaDeprecationWarning: \u001b[1mThe 'nopython' keyword argument was not supplied to the 'numba.jit' decorator. The implicit default value for this argument is currently False, but it will be changed to True in Numba 0.59.0. See https://numba.readthedocs.io/en/stable/reference/deprecation.html#deprecation-of-object-mode-fall-back-behaviour-when-using-jit for details.\u001b[0m\n",
      "  @numba.jit()\n",
      "c:\\Users\\edupo\\.conda\\envs\\recinfo\\Lib\\site-packages\\umap\\distances.py:1086: NumbaDeprecationWarning: \u001b[1mThe 'nopython' keyword argument was not supplied to the 'numba.jit' decorator. The implicit default value for this argument is currently False, but it will be changed to True in Numba 0.59.0. See https://numba.readthedocs.io/en/stable/reference/deprecation.html#deprecation-of-object-mode-fall-back-behaviour-when-using-jit for details.\u001b[0m\n",
      "  @numba.jit()\n",
      "c:\\Users\\edupo\\.conda\\envs\\recinfo\\Lib\\site-packages\\tqdm\\auto.py:21: TqdmWarning: IProgress not found. Please update jupyter and ipywidgets. See https://ipywidgets.readthedocs.io/en/stable/user_install.html\n",
      "  from .autonotebook import tqdm as notebook_tqdm\n",
      "c:\\Users\\edupo\\.conda\\envs\\recinfo\\Lib\\site-packages\\umap\\umap_.py:660: NumbaDeprecationWarning: \u001b[1mThe 'nopython' keyword argument was not supplied to the 'numba.jit' decorator. The implicit default value for this argument is currently False, but it will be changed to True in Numba 0.59.0. See https://numba.readthedocs.io/en/stable/reference/deprecation.html#deprecation-of-object-mode-fall-back-behaviour-when-using-jit for details.\u001b[0m\n",
      "  @numba.jit()\n"
     ]
    }
   ],
   "source": [
    "import pandas as pd\n",
    "\n",
    "from umap import UMAP\n",
    "from hdbscan import HDBSCAN\n",
    "from sentence_transformers import SentenceTransformer\n",
    "from sklearn.feature_extraction.text import CountVectorizer\n",
    "\n",
    "from bertopic import BERTopic\n",
    "from bertopic.representation import KeyBERTInspired\n",
    "from bertopic.vectorizers import ClassTfidfTransformer\n",
    "\n",
    "import re"
   ]
  },
  {
   "cell_type": "code",
   "execution_count": 40,
   "metadata": {},
   "outputs": [],
   "source": [
    "# model = BERTopic.load(\"../Dados/bertopics/modelo_ark survival evolved\")\n",
    "model = BERTopic.load(\"../Dados/bertopics/modelo_astroneer\")\n",
    "# model = BERTopic.load(\"../Dados/bertopics/modelo_factorio\")\n",
    "# model = BERTopic.load(\"../Dados/bertopics/modelo_grand theft auto v\")"
   ]
  },
  {
   "cell_type": "code",
   "execution_count": 41,
   "metadata": {},
   "outputs": [
    {
     "data": {
      "text/html": [
       "<div>\n",
       "<style scoped>\n",
       "    .dataframe tbody tr th:only-of-type {\n",
       "        vertical-align: middle;\n",
       "    }\n",
       "\n",
       "    .dataframe tbody tr th {\n",
       "        vertical-align: top;\n",
       "    }\n",
       "\n",
       "    .dataframe thead th {\n",
       "        text-align: right;\n",
       "    }\n",
       "</style>\n",
       "<table border=\"1\" class=\"dataframe\">\n",
       "  <thead>\n",
       "    <tr style=\"text-align: right;\">\n",
       "      <th></th>\n",
       "      <th>Topic</th>\n",
       "      <th>Count</th>\n",
       "      <th>Name</th>\n",
       "    </tr>\n",
       "  </thead>\n",
       "  <tbody>\n",
       "    <tr>\n",
       "      <th>0</th>\n",
       "      <td>-1</td>\n",
       "      <td>735</td>\n",
       "      <td>-1_gameplay_game_games_enjoyable</td>\n",
       "    </tr>\n",
       "    <tr>\n",
       "      <th>1</th>\n",
       "      <td>0</td>\n",
       "      <td>372</td>\n",
       "      <td>0_explore_gameplay_exploration_exploring</td>\n",
       "    </tr>\n",
       "    <tr>\n",
       "      <th>2</th>\n",
       "      <td>1</td>\n",
       "      <td>207</td>\n",
       "      <td>1_astroneer_gameplay_exploration_exploring</td>\n",
       "    </tr>\n",
       "    <tr>\n",
       "      <th>3</th>\n",
       "      <td>2</td>\n",
       "      <td>157</td>\n",
       "      <td>2_alpha_beta_gameplay_pre</td>\n",
       "    </tr>\n",
       "    <tr>\n",
       "      <th>4</th>\n",
       "      <td>3</td>\n",
       "      <td>134</td>\n",
       "      <td>3_fps_gameplay_playable_60fps</td>\n",
       "    </tr>\n",
       "    <tr>\n",
       "      <th>5</th>\n",
       "      <td>4</td>\n",
       "      <td>97</td>\n",
       "      <td>4_sky_manssky_mans_man</td>\n",
       "    </tr>\n",
       "    <tr>\n",
       "      <th>6</th>\n",
       "      <td>5</td>\n",
       "      <td>85</td>\n",
       "      <td>5_updates_updating_release_update</td>\n",
       "    </tr>\n",
       "    <tr>\n",
       "      <th>7</th>\n",
       "      <td>6</td>\n",
       "      <td>79</td>\n",
       "      <td>6_games_game_fun_playing</td>\n",
       "    </tr>\n",
       "    <tr>\n",
       "      <th>8</th>\n",
       "      <td>7</td>\n",
       "      <td>76</td>\n",
       "      <td>7_good_great_wonderful_nice</td>\n",
       "    </tr>\n",
       "    <tr>\n",
       "      <th>9</th>\n",
       "      <td>8</td>\n",
       "      <td>65</td>\n",
       "      <td>8_bugs_gameplay_game_buggy</td>\n",
       "    </tr>\n",
       "    <tr>\n",
       "      <th>10</th>\n",
       "      <td>9</td>\n",
       "      <td>57</td>\n",
       "      <td>9_early_access_games_recommend</td>\n",
       "    </tr>\n",
       "    <tr>\n",
       "      <th>11</th>\n",
       "      <td>10</td>\n",
       "      <td>50</td>\n",
       "      <td>10_minecraft_gameplay_space_games</td>\n",
       "    </tr>\n",
       "    <tr>\n",
       "      <th>12</th>\n",
       "      <td>11</td>\n",
       "      <td>49</td>\n",
       "      <td>11_free_received_product_game</td>\n",
       "    </tr>\n",
       "    <tr>\n",
       "      <th>13</th>\n",
       "      <td>12</td>\n",
       "      <td>47</td>\n",
       "      <td>12_survival_adventure_fun_game</td>\n",
       "    </tr>\n",
       "    <tr>\n",
       "      <th>14</th>\n",
       "      <td>13</td>\n",
       "      <td>43</td>\n",
       "      <td>13_multiplayer_gameplay_singleplayer_game</td>\n",
       "    </tr>\n",
       "    <tr>\n",
       "      <th>15</th>\n",
       "      <td>14</td>\n",
       "      <td>41</td>\n",
       "      <td>14_rover_bugs_terrain_rovers</td>\n",
       "    </tr>\n",
       "    <tr>\n",
       "      <th>16</th>\n",
       "      <td>15</td>\n",
       "      <td>36</td>\n",
       "      <td>15_crashing_crashes_reboot_crashed</td>\n",
       "    </tr>\n",
       "    <tr>\n",
       "      <th>17</th>\n",
       "      <td>16</td>\n",
       "      <td>34</td>\n",
       "      <td>16_relaxing_relaxed_soothing_relax</td>\n",
       "    </tr>\n",
       "    <tr>\n",
       "      <th>18</th>\n",
       "      <td>17</td>\n",
       "      <td>32</td>\n",
       "      <td>17_sandbox_sandboxes_game_survival</td>\n",
       "    </tr>\n",
       "    <tr>\n",
       "      <th>19</th>\n",
       "      <td>18</td>\n",
       "      <td>29</td>\n",
       "      <td>18_gameplay_game_play_playing</td>\n",
       "    </tr>\n",
       "    <tr>\n",
       "      <th>20</th>\n",
       "      <td>19</td>\n",
       "      <td>27</td>\n",
       "      <td>19_version_release_beta_updates</td>\n",
       "    </tr>\n",
       "    <tr>\n",
       "      <th>21</th>\n",
       "      <td>20</td>\n",
       "      <td>27</td>\n",
       "      <td>20_game_great_excellent_good</td>\n",
       "    </tr>\n",
       "    <tr>\n",
       "      <th>22</th>\n",
       "      <td>21</td>\n",
       "      <td>24</td>\n",
       "      <td>21_coop_multiplayer_fun_game</td>\n",
       "    </tr>\n",
       "    <tr>\n",
       "      <th>23</th>\n",
       "      <td>22</td>\n",
       "      <td>22</td>\n",
       "      <td>22_hours_game_fun_playing</td>\n",
       "    </tr>\n",
       "    <tr>\n",
       "      <th>24</th>\n",
       "      <td>23</td>\n",
       "      <td>18</td>\n",
       "      <td>23_fun_game_play_funnnnnn</td>\n",
       "    </tr>\n",
       "    <tr>\n",
       "      <th>25</th>\n",
       "      <td>24</td>\n",
       "      <td>18</td>\n",
       "      <td>24_game_20_worth_fun</td>\n",
       "    </tr>\n",
       "    <tr>\n",
       "      <th>26</th>\n",
       "      <td>25</td>\n",
       "      <td>16</td>\n",
       "      <td>25_10all_10_10beautiful_10terapeutic</td>\n",
       "    </tr>\n",
       "    <tr>\n",
       "      <th>27</th>\n",
       "      <td>26</td>\n",
       "      <td>16</td>\n",
       "      <td>26_mmorpg_exploration_build_exploring</td>\n",
       "    </tr>\n",
       "    <tr>\n",
       "      <th>28</th>\n",
       "      <td>27</td>\n",
       "      <td>15</td>\n",
       "      <td>27_game_awsome_love_beautiful</td>\n",
       "    </tr>\n",
       "  </tbody>\n",
       "</table>\n",
       "</div>"
      ],
      "text/plain": [
       "    Topic  Count                                        Name\n",
       "0      -1    735            -1_gameplay_game_games_enjoyable\n",
       "1       0    372    0_explore_gameplay_exploration_exploring\n",
       "2       1    207  1_astroneer_gameplay_exploration_exploring\n",
       "3       2    157                   2_alpha_beta_gameplay_pre\n",
       "4       3    134               3_fps_gameplay_playable_60fps\n",
       "5       4     97                      4_sky_manssky_mans_man\n",
       "6       5     85           5_updates_updating_release_update\n",
       "7       6     79                    6_games_game_fun_playing\n",
       "8       7     76                 7_good_great_wonderful_nice\n",
       "9       8     65                  8_bugs_gameplay_game_buggy\n",
       "10      9     57              9_early_access_games_recommend\n",
       "11     10     50           10_minecraft_gameplay_space_games\n",
       "12     11     49               11_free_received_product_game\n",
       "13     12     47              12_survival_adventure_fun_game\n",
       "14     13     43   13_multiplayer_gameplay_singleplayer_game\n",
       "15     14     41                14_rover_bugs_terrain_rovers\n",
       "16     15     36          15_crashing_crashes_reboot_crashed\n",
       "17     16     34          16_relaxing_relaxed_soothing_relax\n",
       "18     17     32          17_sandbox_sandboxes_game_survival\n",
       "19     18     29               18_gameplay_game_play_playing\n",
       "20     19     27             19_version_release_beta_updates\n",
       "21     20     27                20_game_great_excellent_good\n",
       "22     21     24                21_coop_multiplayer_fun_game\n",
       "23     22     22                   22_hours_game_fun_playing\n",
       "24     23     18                   23_fun_game_play_funnnnnn\n",
       "25     24     18                        24_game_20_worth_fun\n",
       "26     25     16        25_10all_10_10beautiful_10terapeutic\n",
       "27     26     16       26_mmorpg_exploration_build_exploring\n",
       "28     27     15               27_game_awsome_love_beautiful"
      ]
     },
     "execution_count": 41,
     "metadata": {},
     "output_type": "execute_result"
    }
   ],
   "source": [
    "model.get_topic_info()"
   ]
  },
  {
   "cell_type": "code",
   "execution_count": 42,
   "metadata": {},
   "outputs": [
    {
     "data": {
      "text/plain": [
       "[('gameplay', 0.5021995),\n",
       " ('game', 0.4139233),\n",
       " ('games', 0.3989886),\n",
       " ('enjoyable', 0.38198778),\n",
       " ('playing', 0.37788635),\n",
       " ('fun', 0.37687284),\n",
       " ('play', 0.3718382),\n",
       " ('build', 0.3612333),\n",
       " ('explore', 0.27961785),\n",
       " ('release', 0.27912143)]"
      ]
     },
     "execution_count": 42,
     "metadata": {},
     "output_type": "execute_result"
    }
   ],
   "source": [
    "model.get_topic(-1)"
   ]
  },
  {
   "cell_type": "code",
   "execution_count": 9,
   "metadata": {},
   "outputs": [],
   "source": [
    "# model.visualize_hierarchy()"
   ]
  },
  {
   "cell_type": "code",
   "execution_count": 35,
   "metadata": {},
   "outputs": [],
   "source": [
    "# model.visualize_heatmap()"
   ]
  },
  {
   "cell_type": "code",
   "execution_count": 11,
   "metadata": {},
   "outputs": [],
   "source": [
    "# model.visualize_topics()"
   ]
  },
  {
   "cell_type": "code",
   "execution_count": 12,
   "metadata": {},
   "outputs": [
    {
     "name": "stdout",
     "output_type": "stream",
     "text": [
      "['00', '000', '04', '0r', '10', '100', '1000', '100fps', '100gbs', '100x', '1050', '1070', '1080', '1080p', '11', '116', '12', '1200', '13', '130', '14', '140', '1400', '1440', '15', '150', '1500', '15min', '16', '1600', '18', '19', '190', '1920x1080', '1995', '1h', '1k', '1st', '20', '200', '2000', '2000hr', '200m', '2010', '2014', '2015', '2016', '20eur', '20s', '222', '24', '25', '2500', '28', '29', '2k', '2x', '30', '300', '30k', '32', '32gb', '3440x1440', '35', '3610m', '3820', '390', '3hours', '3rd', '3x', '40', '400', '42', '45', '4670k', '48', '49', '4gig', '4x4', '50', '500', '5001', '50fps', '50ft', '50x', '53', '560', '58', '59', '5mins', '60', '6000', '60fps', '60gb', '64', '650m', '66', '6600k', '67', '6t5fe9vwrn8', '6th', '70', '750', '770', '7dtd', '800', '850', '89', '8gb', '90', '92', '95', '9590', '970', '980', '980s', '980ti', '99', '9k', 'aaa', 'ability', 'abismal', 'able', 'abrupt', 'absaolute', 'absoltely', 'absolut', 'absolute', 'absolutely', 'absolutly', 'absurdity', 'abuse', 'abusing', 'accecept', 'accept', 'acceptable', 'accepted', 'acception', 'accesible', 'access', 'accessed', 'accomplish', 'accomplished', 'according', 'account', 'accounts', 'accurate', 'acess', 'achieve', 'acid', 'acs', 'act', 'action', 'actions', 'active', 'actively', 'acts', 'actual', 'actually', 'actully', 'add', 'added', 'addict', 'addicted', 'addicting', 'addictive', 'adding', 'addition', 'additional', 'additionally', 'additions', 'addons', 'address', 'addressing', 'adjusted', 'adjusting', 'admin', 'administer', 'administrators', 'admins', 'admit', 'adobt', 'adulthood', 'advance', 'advancement', 'advantage', 'adventure', 'affect', 'agaist', 'ages', 'aggressive', 'aggro', 'agian', 'ago', 'agreed', 'ahead', 'ahh', 'ai', 'aide', 'aimbotting', 'aiming', 'air', 'alert', 'alerts', 'alive', 'alliance', 'allies', 'allow', 'allowed', 'allowing', 'alot', 'alpha', 'alphas', 'alreayd', 'alright', 'altitues', 'amazing', 'amazingly', 'ambitions', 'ambushed', 'amd', 'amit', 'ammo', 'amounts', 'amp', 'ancient', 'animal', 'animals', 'ankrahmunankaderpmuffindeemdemonspawnsharkenatorlulurammusrockeystoneyscorpenatormittenrappyomegamammutanwoollymamenamenamenancarnybrontenatorand', 'ankylo', 'annouced', 'announcement', 'annoying', 'anothers', 'anoying', 'answer', 'anti', 'anticipate', 'anxiety', 'anymore', 'anyways', 'apart', 'aplha', 'apoligies', 'apologies', 'apparently', 'apparentyl', 'appealing', 'appear', 'appreciate', 'approached', 'arbitrary', 'area', 'areas', 'aren', 'arent', 'argue', 'arise', 'arising', 'ark', 'arm', 'arma', 'armor', 'arms', 'army', 'arounds', 'arrive', 'arrived', 'arrives', 'arrows', 'arsed', 'asians', 'aside', 'ask', 'asking', 'asleep', 'aspect', 'aspects', 'assignment', 'associate', 'assume', 'assure', 'astablished', 'atari', 'ate', 'atlasabraxisnientalonaeonmckittenmccatmcmuffinmike', 'atleast', 'atm', 'atone', 'attached', 'attack', 'attacked', 'attacking', 'attacks', 'attempt', 'attempting', 'auto', 'automatically', 'available', 'avg', 'avoid', 'aware', 'away', 'aweful', 'awesome', 'awful', 'axe', 'axing', 'baby', 'backing', 'bad', 'badly', 'bag', 'balance', 'balanced', 'balls', 'ban', 'banded', 'bannable', 'banning', 'bar', 'bare', 'barely', 'base', 'based', 'baseline', 'basement', 'bases', 'basesasuars', 'bashing', 'basic', 'basically', 'basics', 'basis', 'bathroom', 'battering', 'battle', 'battleeye', 'battlefront', 'battlemetrics', 'battles', 'beach', 'beams', 'bearable', 'beastly', 'beat', 'beaten', 'beautiful', 'beauty', 'beaver', 'becuase', 'bed', 'began', 'begin', 'beginning', 'behavioral', 'behold', 'believe', 'berries', 'best', 'beta', 'better', 'beware', 'big', 'bigfoot', 'bigger', 'biggest', 'bird', 'birds', 'bit', 'biting', 'bitsintel', 'bitter', 'blame', 'blast', 'bleak', 'blew', 'blind', 'blizzard', 'bloated', 'block', 'blocked', 'blood', 'bloody', 'bloom', 'blow', 'blown', 'blueprint', 'blueprints', 'board', 'boards', 'boat', 'boats', 'body', 'bogs', 'boiled', 'book', 'bored', 'boring', 'boss', 'bosses', 'bother', 'botters', 'bought', 'boundary', 'bows', 'boxes', 'boys', 'brainer', 'break', 'breaking', 'breath', 'breathtaking', 'breeding', 'brewing', 'briefly', 'bring', 'bringing', 'brings', 'broke', 'broken', 'broodmother', 'brought', 'brow', 'brutal', 'bubble', 'bubbles', 'bucket', 'bucks', 'buddy', 'buffing', 'bug', 'bugged', 'buggs', 'buggy', 'bugs', 'buiding', 'buidling', 'build', 'building', 'buildings', 'builds', 'built', 'bulk', 'bullets', 'bullying', 'bunch', 'bundle', 'bunny', 'burst', 'bushes', 'business', 'butchered', 'butt', 'butterfly', 'button', 'buy', 'buying', 'bybass', 'bypass', 'c4', 'cad', 'cake', 'called', 'cam', 'came', 'camera', 'camp', 'campfire', 'camping', 'cancer', 'cancerous', 'candy', 'cane', 'cap', 'capable', 'capital', 'capped', 'capture', 'car', 'card', 'cards', 'care', 'cared', 'careful', 'carefully', 'carnivore', 'carno', 'carried', 'carrying', 'case', 'cash', 'casper', 'cast', 'castle', 'casual', 'casuals', 'catch', 'cattle', 'cause', 'caused', 'causes', 'causing', 'cautious', 'cave', 'caverns', 'caves', 'ceilings', 'center', 'centuries', 'certain', 'certainly', 'challange', 'challenge', 'challenging', 'chance', 'change', 'changed', 'changes', 'changing', 'char', 'character', 'characters', 'charging', 'chase', 'chasing', 'chat', 'cheap', 'cheaper', 'cheat', 'cheater', 'cheaters', 'cheats', 'check', 'checked', 'chests', 'chieftains', 'child', 'chill', 'chinese', 'chitin', 'chock', 'choices', 'choose', 'chopping', 'christ', 'citing', 'cks', 'claim', 'claimed', 'clan', 'clans', 'clash', 'classic', 'clean', 'clear', 'clearly', 'client', 'climb', 'clipping', 'clone', 'close', 'closed', 'closes', 'closing', 'club', 'clue', 'clutters', 'cmon', 'coasts', 'coat', 'cockroach', 'code', 'coin', 'cold', 'collapses', 'collect', 'collected', 'collecting', 'collection', 'collision', 'colossally', 'com', 'combat', 'combined', 'come', 'comes', 'coming', 'comittment', 'comletely', 'commads', 'command', 'commands', 'comments', 'commit', 'common', 'communities', 'community', 'companies', 'company', 'compared', 'comparison', 'comparisons', 'compartments', 'compass', 'competence', 'competent', 'complain', 'complaint', 'complete', 'completed', 'completely', 'completly', 'computer', 'computers', 'comsumers', 'conan', 'concept', 'concerned', 'conclusionark', 'conditioned', 'condominium', 'conflict', 'confused', 'congratulate', 'congregate', 'connect', 'connecting', 'connection', 'connectivity', 'conquer', 'cons', 'cons1', 'conscience', 'consider', 'considered', 'considering', 'consistent', 'consistently', 'console', 'constant', 'constantly', 'consuming', 'contact', 'contacting', 'containers', 'content', 'contentwise', 'continue', 'continues', 'continuespros', 'continuosly', 'continuously', 'controlling', 'controls', 'cool', 'coolest', 'coop', 'cooperative', 'copy', 'core', 'corpse', 'corpses', 'corrective', 'correctly', 'cosmetic', 'costs', 'couldn', 'count', 'counteract', 'counterpart', 'countless', 'couple', 'course', 'cover', 'cow', 'cpu', 'crack', 'craft', 'crafting', 'crap', 'crash', 'crashed', 'crashedoff', 'crashes', 'crashing', 'crater', 'crates', 'crawling', 'crazy', 'create', 'creating', 'creation', 'creations', 'creature', 'creatures', 'crops', 'crossbow', 'cruel', 'crushes', 'crystal', 'cs', 'cuffed', 'cultures', 'current', 'currently', 'custimazation', 'custom', 'customer', 'customers', 'cut', 'cutting', 'cuz', 'cycle', 'cycling', 'daily', 'dam', 'damage', 'damn', 'dangerous', 'database', 'date', 'day', 'days', 'dayz', 'dc', 'ddos', 'dead', 'deadly', 'deal', 'dealing', 'dear', 'death', 'deaths', 'decade', 'decent', 'decide', 'decided', 'decides', 'decision', 'decisions', 'declaration', 'decrease', 'decry', 'dedicated', 'default', 'defecating', 'defence', 'defences', 'defend', 'defenders', 'defending', 'defenseless', 'defenses', 'deff', 'definitely', 'delayed', 'delete', 'deleted', 'deliberately', 'deliver', 'delivered', 'delivering', 'dell', 'demand', 'demanding', 'demands', 'demo', 'denial', 'denote', 'depending', 'depends', 'depleats', 'deplorable', 'deployment', 'depression', 'depth', 'deserve', 'design', 'designated', 'designed', 'desire', 'despite', 'dessert', 'destiny', 'destroy', 'destroyed', 'destroyes', 'destroying', 'destroys', 'desync', 'desyncs', 'details', 'determined', 'detract', 'dev', 'develop', 'developed', 'developer', 'developers', 'development', 'devote', 'devoted', 'devout', 'devs', 'did', 'didn', 'didnt', 'die', 'died', 'dies', 'differ', 'different', 'differentiate', 'difficult', 'dig', 'dillos', 'dilo', 'dilophosauras', 'dilos', 'dime', 'dinky', 'dino', 'dinos', 'dinosaur', 'dinosaurs', 'dinosour', 'dinossaurs', 'dips', 'direction', 'directx', 'direcx', 'disappear', 'disappears', 'discovering', 'discovery', 'discussion', 'dishonored', 'dismounted', 'disparity', 'disputes', 'dissapointed', 'dissapointing', 'distinct', 'disturbing', 'diversity', 'diverting', 'divided', 'dl', 'dlc', 'dlcark', 'dlci', 'dlcs', 'dodged', 'dodo', 'dodorex', 'dodos', 'does', 'doesn', 'doesnt', 'doing', 'dollars', 'dominant', 'dominating', 'don', 'donkey', 'donot', 'dont', 'doomed', 'dope', 'dotame', 'dots', 'double', 'doubling', 'doubt', 'download', 'downloaded', 'downside', 'downsides', 'dozen', 'dozens', 'dr', 'drag', 'dragon', 'drain', 'drama', 'drasticly', 'drawn', 'draws', 'drink', 'drive', 'drop', 'droping', 'dropped', 'drops', 'drove', 'drowning', 'dual', 'dude', 'dumb', 'dumped', 'dup', 'dupers', 'duping', 'duty', 'dwindling', 'dying', 'dynamic', 'ea', 'eachother', 'eagles', 'earlier', 'early', 'earn', 'ears', 'earth', 'ease', 'easier', 'easily', 'easy', 'eat', 'eaters', 'eating', 'economic', 'edge', 'edit', 'effect', 'effort', 'egg', 'eggs', 'electrical', 'elements', 'eligible', 'email', 'embarassed', 'embarrassing', 'emerges', 'emmersion', 'emotions', 'employing', 'en', 'enabled', 'encountered', 'encourage', 'end', 'ended', 'ending', 'ends', 'enemies', 'enemy', 'engine', 'english', 'engram', 'enhance', 'enjoy', 'enjoyable', 'enjoyably', 'enjoyed', 'enjoyment', 'enormous', 'enought', 'enter', 'entered', 'entertaining', 'entertainment', 'entire', 'environment', 'epic', 'epicness', 'error', 'errors', 'ery', 'escape', 'especially', 'essential', 'essentially', 'est', 'eternity', 'euros', 'evaluate', 'eve', 'event', 'eventually', 'everyhting', 'everytime', 'evidence', 'evil', 'evolution', 'evolved', 'exact', 'exactly', 'exaggeration', 'example', 'excatly', 'exceeded', 'exception', 'excercise', 'exchange', 'excited', 'exciting', 'excluding', 'excuse', 'exe', 'execution', 'exhaustion', 'exhilerating', 'existant', 'existed', 'exit', 'exited', 'expansion', 'expect', 'expected', 'expeditions', 'expensive', 'experience', 'experienced', 'experiences', 'experiment', 'explain', 'explodes', 'exploit', 'exploitative', 'exploiters', 'exploits', 'explore', 'exploring', 'express', 'extensive', 'extinction', 'extra', 'extreme', 'extremely', 'eye', 'face', 'faces', 'fact', 'fail', 'failed', 'failing', 'fails', 'failures', 'faint', 'fair', 'fairly', 'fake', 'fall', 'falling', 'fallout', 'family', 'fan', 'fanbase', 'fancy', 'fans', 'fantastic', 'far', 'farcry', 'farm', 'farming', 'farmvilles', 'fast', 'faster', 'fat', 'fatal', 'fault', 'fauna', 'favor', 'favorite', 'favorited', 'favorites', 'favors', 'favourite', 'fear', 'feature', 'features', 'february', 'feces', 'fed', 'feed', 'feedback', 'feeding', 'feel', 'feeling', 'feelings', 'feels', 'feet', 'fell', 'felt', 'fence', 'fend', 'fest', 'fever', 'ffs', 'fiasco', 'fiber', 'fifity', 'fight', 'fighting', 'fights', 'figure', 'figured', 'file', 'filled', 'filter', 'finally', 'finding', 'fine', 'finger', 'finish', 'finished', 'finishing', 'fired', 'firing', 'firstly', 'fittest', 'fix', 'fixed', 'fixes', 'fixing', 'fixxed', 'flare', 'flat', 'flaws', 'flies', 'floating', 'floor', 'fly', 'flying', 'focus', 'focusing', 'focussing', 'foes', 'folder', 'folks', 'follow', 'followed', 'following', 'food', 'foot', 'force', 'forced', 'forest', 'forestconclusionark', 'forests', 'forever', 'forget', 'forging', 'form', 'format', 'forth', 'fortress', 'fortresses', 'forts', 'forums', 'forward', 'fought', 'foundation', 'foundations', 'fps', 'frame', 'framerate', 'framerates', 'frames', 'frantically', 'free', 'freed', 'freedom', 'freeze', 'freezes', 'freezingb', 'french', 'fresh', 'friend', 'friendly', 'friends', 'friendships', 'frilled', 'frustrating', 'frustration', 'frusturated', 'fueled', 'fulfilling', 'fully', 'fun', 'function', 'functionalities', 'functioning', 'funding', 'funds', 'funny', 'furfiled', 'fustrated', 'fustrating', 'fustration', 'future', 'fx', 'gaem', 'gain', 'game', 'gamebreaking', 'gameplay', 'gamepve', 'gamer', 'games', 'gameupdate', 'gaming', 'ganged', 'garbage', 'gates', 'gather', 'gathering', 'gatlin', 'gaurd', 'gave', 'gb', 'gb2x', 'gear', 'geforce', 'gen', 'general', 'generally', 'generations', 'generators', 'genre', 'genuinely', 'german', 'gets', 'getter', 'gettin', 'getting', 'gg', 'ghost', 'ghz', 'giant', 'gib2x', 'giga', 'gigs', 'given', 'giving', 'glad', 'glaring', 'glitch', 'glitched', 'glitches', 'glitching', 'glitchy', 'global', 'gms', 'goals', 'god', 'goes', 'gog', 'going', 'gold', 'golem', 'gone', 'gonna', 'good', 'goodbuy', 'goods', 'google', 'gorilla', 'got', 'gotta', 'gotten', 'gpu', 'grab', 'grabbing', 'grabs', 'gracefully', 'grammar', 'granted', 'graphic', 'graphical', 'graphicard', 'graphics', 'grasp', 'great', 'greedy', 'green', 'greetings', 'greetingspingger', 'greifed', 'greifers', 'greifing3', 'grenade', 'grenades', 'grief', 'griefed', 'griefers', 'griefing', 'grifeing', 'grind', 'grinding', 'grindy', 'ground', 'group', 'grouping', 'groups', 'grow', 'growing', 'grows', 'grubbing', 'gt', 'gta', 'gtx', 'guarding', 'guerrilla', 'guess', 'guides', 'gun', 'guns', 'guy', 'guys', 'habit', 'hack', 'hackers', 'hacking', 'hacks', 'hadn', 'haev', 'hah', 'haha', 'hairworks', 'half', 'halfway', 'halt', 'halted', 'halved', 'hand', 'handful', 'handfull', 'handicap', 'handle', 'hands', 'hang', 'happen', 'happends', 'happened', 'happening', 'happens', 'happily', 'happy', 'harassment', 'hard', 'harder', 'hardest', 'hardly', 'hardware', 'hardworkbut', 'harsh', 'harvest', 'harvesting', 'hasn', 'hatch', 'hatched', 'hatchet', 'hatching', 'hate', 'hated', 'hats', 'hauled', 'haven', 'havent', 'having', 'havok', 'hdd', 'hdds', 'head', 'headed', 'health', 'heardi', 'heart', 'hearts', 'heavens', 'heavy', 'height', 'held', 'hell', 'helledit', 'help', 'helped', 'helpful', 'helping', 'helplessness', 'helps', 'herds', 'heroin', 'hey', 'hidden', 'hide', 'hideout', 'hiding', 'high', 'higher', 'highest', 'highly', 'hike', 'hill', 'hinderance', 'history', 'hit', 'hitboxes', 'hits', 'hitting', 'hobby', 'hold', 'holding', 'hole', 'holes', 'hollow', 'home', 'honest', 'honestly', 'hooked', 'hop', 'hope', 'hopefully', 'hopes', 'hopped', 'horde', 'horrible', 'horrid', 'horror', 'host', 'hostile', 'hostiles', 'hosting', 'hour', 'hours', 'house', 'houses', 'hover', 'hp', 'hrs', 'https', 'huge', 'huh', 'human', 'humanity', 'hunderds', 'hundreds', 'hungrier', 'hungry', 'hunt', 'hunting', 'hurts', 'hut', 'huts', 'hybrid', 'i5', 'i7', 'ice', 'icing', 'icthy', 'id', 'idea', 'ideas', 'idiots', 'ignore', 'ignored', 'iif', 'ill', 'im', 'imagine', 'immediately', 'immersion', 'immersive', 'implement', 'implemented', 'implementing', 'impoertant', 'important', 'impossible', 'impotant', 'impression', 'impressive', 'imprinting', 'improve', 'improved', 'improvement', 'improvements', 'improves', 'improving', 'improvments', 'inbalance', 'inch', 'including', 'incompetent', 'incorrect', 'increase', 'increased', 'indie', 'individual', 'industry', 'inet', 'inevitably', 'infact', 'infancy', 'infighting', 'influence', 'information', 'ing', 'ingame', 'inhabited', 'initial', 'initially', 'inner', 'inofficial', 'input', 'insane', 'insanely', 'insanly', 'inside', 'install', 'installed', 'instant', 'instantly', 'instead', 'instructions', 'intact', 'intelligent', 'intense', 'intensity', 'intensive', 'interact', 'interaction', 'interactive', 'interested', 'interesting', 'interestingly', 'internet', 'intimidating', 'intrest', 'intriguing', 'introduced', 'inventory', 'invest', 'invested', 'investment', 'invisible', 'involve', 'involved', 'ir', 'irresponsible', 'irrigation', 'island', 'isn', 'isnt', 'issue', 'issues', 'item', 'items', 'ive', 'jack', 'jar', 'jerks', 'jesus', 'job', 'join', 'joined', 'joining', 'jointhe', 'joke', 'joy', 'jump', 'jumped', 'jumping', 'june', 'jurassic', 'just', 'keeping', 'keeps', 'kelp', 'kept', 'kertine', 'keybindings', 'keyword', 'kibble', 'kicked', 'kidding', 'kidnap', 'kids', 'kill', 'killed', 'killing', 'kills', 'kind', 'kinda', 'kinds', 'knew', 'knock', 'know', 'knowing', 'knowledge', 'known', 'knowning', 'knows', 'label', 'lack', 'lacking', 'ladders', 'lag', 'laggy', 'lags', 'laid', 'lame', 'land', 'lands', 'landscape', 'language', 'laptop', 'large', 'larger', 'larger50', 'late', 'later', 'latest', 'laugh', 'laughable', 'laughably', 'launch', 'launchers', 'launches', 'lava', 'law', 'lawn', 'laws', 'lawsuit', 'lay', 'layer', 'layered', 'lazers', 'lazy', 'ld', 'leader', 'leadership', 'leads', 'leaping', 'learn', 'learned', 'learning', 'leave', 'ledges', 'left', 'lens', 'lesson', 'let', 'lets', 'letters', 'level', 'leveling', 'levels', 'levelups', 'library', 'life', 'light', 'like', 'liked', 'likely', 'likes', 'limit', 'limited', 'limits', 'line', 'linear', 'lines', 'linux', 'list', 'listed', 'listen', 'listening', 'literal', 'literally', 'litering', 'literraly', 'litterally', 'little', 'live', 'll', 'load', 'loaded', 'loading', 'loads', 'local', 'location', 'locations', 'lock', 'locked', 'log', 'logg', 'logged', 'logging', 'login', 'lol', 'lols', 'long', 'longer', 'longing', 'look', 'looked', 'looking', 'looks', 'loose', 'loot', 'looted', 'lord', 'lose', 'loser', 'losing', 'loss', 'lost', 'lot', 'lotr', 'lots', 'love', 'loved', 'lovers', 'loves', 'low', 'lower', 'lowest', 'lts', 'luckily', 'lucky', 'ludicrous', 'lul', 'lvl', 'lvl35', 'mad', 'magical', 'main', 'mainly', 'maintain', 'maintained', 'maintaining', 'maintenance', 'major', 'majority', 'make', 'makes', 'making', 'malicious', 'mammals', 'mammoths', 'manage', 'managed', 'manages', 'manner', 'mans', 'mansion', 'map', 'maps', 'market', 'mars', 'masochist', 'masochists', 'mason', 'masqurad', 'mass', 'massacre', 'massive', 'massively', 'master', 'masterpiece', 'match', 'mate', 'materials', 'mating', 'matketing', 'mats', 'matter', 'max', 'maxed', 'maybe', 'mean', 'meaning', 'means', 'meant', 'meat', 'mechanic', 'mechanics', 'medium', 'meet', 'meeting', 'mega', 'megapithecus', 'megatribes', 'meh', 'members', 'memories', 'memory', 'mental', 'mention', 'mentioned', 'mentioning', 'mercy', 'mere', 'mesh', 'meshed', 'mess', 'message', 'messages', 'met', 'metal', 'meters', 'method', 'mettle', 'mid', 'middle', 'midnight', 'mightiest', 'miles', 'milking', 'mind', 'minimal', 'minimum', 'minimums', 'mining', 'miniscule', 'minor', 'mins', 'minute', 'minutes', 'miracle', 'mismatch', 'misrepresentation', 'miss', 'missing', 'mistake', 'mistakes', 'mistress', 'mix', 'mixture', 'mmo', 'mod', 'modders', 'mode', 'models', 'modern', 'mods', 'moment', 'moments', 'money', 'moneys', 'monitoring', 'monopolizing', 'monster', 'month', 'months', 'morals', 'morning', 'motivated', 'motivation', 'mount', 'mountain', 'mounts', 'mouse', 'moved', 'moves', 'moving', 'mow', 'multiplayer', 'multiple', 'multiplier', 'multipliers', 'murdered', 'music', 'nahhhi', 'naked', 'names', 'nasa', 'native', 'natural', 'nature', 'navigating', 'near', 'nearby', 'nearly', 'neat', 'necessarily', 'need', 'needed', 'needing', 'needs', 'negative', 'neighboring', 'neighbourhood', 'nerf', 'nerfed', 'nerve', 'net', 'netflix', 'nets', 'new', 'newbies', 'newengrams', 'newer', 'newly', 'nice', 'night', 'nights', 'nineties', 'nividia', 'nms', 'non', 'nonsensical', 'noob', 'noobs', 'nope', 'normal', 'normally', 'note', 'notebook', 'notes', 'noteworthy', 'noting', 'nude', 'number', 'numbers', 'numerous', 'nut', 'object', 'objectives', 'objects', 'obliterated', 'obsoleted', 'obstructed', 'obtain', 'obvious', 'occasion', 'occassion', 'occure', 'ofcourse', 'offer', 'offered', 'offering', 'offical', 'official', 'officials', 'offline', 'oh', 'oil', 'ok', 'okay', 'old', 'omg', 'onc', 'ond', 'ones', 'online', 'ontop', 'ooanswer', 'open', 'opens', 'opinion', 'opposite', 'optic', 'optimilize', 'optimisation', 'optimised', 'optimisedprice', 'optimization', 'optimization2', 'optimizations', 'optimized', 'optimizing', 'option', 'options', 'optomization', 'orbit', 'order', 'organic', 'organize', 'orientation', 'origin', 'original', 'ornaments', 'otter', 'outdated', 'outrages', 'outragous', 'outrun', 'outside', 'overall', 'overburdened', 'overcrowded', 'overlook', 'overpayed', 'overpowered', 'overpriced', 'overrun', 'overstuffed', 'overwhelming', 'owned', 'oxygen', 'ozocraft', 'p2p', 'pace', 'pack', 'packs', 'pact', 'page', 'paid', 'painfully', 'paint', 'palystation', 'panders', 'panic', 'parallel', 'parasaur', 'park', 'parked', 'participate', 'participating', 'parts', 'pass', 'passed', 'passing', 'past', 'paste', 'patch', 'patched', 'patches', 'path', 'pathfinding', 'patience', 'patient', 'patiently', 'pattern', 'pay', 'payed', 'paying', 'paywall', 'pc', 'pcs', 'peace', 'peaceful', 'pen', 'peninsula', 'people', 'perfect', 'perfectly', 'performance', 'perimiter', 'period', 'periods', 'perks', 'person', 'personal', 'personally', 'perspective', 'pertain', 'pet', 'pets', 'phase', 'phoenix', 'pick', 'pickaxe', 'picked', 'picking', 'pickup', 'piece', 'pigs', 'pile', 'pillars', 'ping', 'pipe', 'pipes', 'pitching', 'pitted', 'pity', 'pixely', 'place', 'placed', 'placement', 'plagued', 'plain', 'plan', 'planet', 'planned', 'planning', 'plans', 'plant', 'plants', 'play', 'playability', 'playable', 'played', 'player', 'playerbase', 'playerhighly', 'playermade', 'players', 'playing', 'plays', 'plenty', 'plesiosaur', 'pls', 'pm', 'point', 'pointed', 'pointless', 'points', 'polish', 'polished', 'poof', 'poop', 'pooped', 'poops', 'poor', 'poorly', 'popular', 'population', 'por', 'port', 'portable', 'position', 'positive', 'possessions', 'possibility', 'possible', 'possibly', 'potato', 'potential', 'pounds', 'pour', 'poured', 'pouring', 'power', 'powerful', 'powers', 'ppl', 'practically', 'practice', 'practices', 'pre', 'preayed', 'predators', 'prefer', 'prehistoric', 'premise', 'preordered', 'prepare', 'present', 'pressure', 'pretty', 'prevent', 'prevented', 'previous', 'price', 'priced', 'prides', 'prime', 'primitive', 'priorities', 'prioritize', 'priority', 'private', 'privileges', 'privite', 'pro', 'probably', 'problem', 'problems', 'problemseven', 'probly', 'proc', 'proccesor', 'proccess', 'process', 'processes', 'producing', 'product', 'products', 'professional', 'professors', 'profile', 'profit', 'profoundly', 'progress', 'progressive', 'prohibitive', 'project', 'projects', 'prolongued', 'prom', 'promise', 'promised', 'promises', 'promising', 'promotes', 'properly', 'proposes', 'pros', 'protection', 'protest', 'proved', 'proven', 'provide', 'provided', 'provides', 'providing', 'ps', 'pterasaur', 'ptsd', 'public', 'pulled', 'pump', 'pumping', 'punch', 'punched', 'punishes', 'punishment', 'purchasable', 'purchase', 'purchased', 'purchasing', 'pursuit', 'push', 'pushed', 'pushing', 'putting', 'pve', 'pvp', 'pvpand', 'pvpe', 'qaulity', 'qcomplaint', 'quality', 'quests', 'quetzal', 'quetzals', 'quick', 'quickly', 'quit', 'quite', 'r9', 'radius', 'ragequit', 'ragnarok', 'raid', 'raided', 'raiders', 'raiding', 'raids', 'raise', 'raising', 'ram', 'ramgtx', 'rams', 'ran', 'random', 'randomly', 'range', 'ranging', 'ranting', 'rapidly', 'raptor', 'raptors', 'rarer', 'rate', 'rates', 'rats', 'raw', 'rcon', 'reach', 'react', 'read', 'reading', 'ready', 'real', 'realease', 'realesed', 'realistic', 'realistically', 'reality', 'realize', 'realized', 'really', 'reared', 'reason', 'reasonably', 'reasons', 'rebuild', 'rebuilding', 'rebuilt', 'recall', 'reccomend', 'reccomended', 'receive', 'received', 'recent', 'recipes', 'reckoned', 'recoil', 'recommend', 'recommendation', 'recommended', 'recommending', 'reconnect', 'record', 'recourse', 'recovering', 'rectify', 'reddit', 'redeeming', 'rediculous', 'reduce', 'reduced', 'redundant', 'refer', 'referees', 'referencing', 'refund', 'refused', 'refuses', 'refusing', 'regard', 'regardless', 'register', 'regular', 'regularlly', 'reinstalling', 'reivew', 'rejoice', 'relative', 'relaxing', 'release', 'released', 'releaseing', 'releasing', 'relief', 'relocate', 'remain', 'remember', 'rememeber', 'remove', 'removed', 'removing', 'render', 'rendered', 'rendering', 'renders', 'renistallations', 'rent', 'rented', 'repairing', 'repeat', 'replace', 'require', 'required', 'requirements', 'requires', 'requirments', 'rescued', 'reset', 'resistances', 'reskinned', 'resolution', 'resolve', 'resolved', 'resolves', 'resource', 'resources', 'respawn', 'respawned', 'respect', 'respond', 'responded', 'response', 'responsibility', 'rest', 'restarting', 'restarts', 'restore', 'return', 'returned', 'returning', 'revenge', 'reverse', 'review', 'reviewers', 'reviews', 'reward', 'rewarded', 'rework', 'rex', 'rexes', 'rhyme', 'riddled', 'ride', 'rideable', 'ridiculous', 'riding', 'rig', 'right', 'rigs', 'riiiiight', 'rinse', 'rip', 'ripped', 'rising', 'rly', 'robbed', 'rock', 'rocket', 'rockets', 'rocks', 'rocky', 'role', 'roleplay', 'roll', 'rolled', 'rolling', 'room', 'rooms', 'rose', 'rough', 'roughly', 'rpg', 'rubberbanding', 'rubbish', 'ruin', 'ruined', 'ruinning', 'ruins', 'rule', 'ruler', 'rules', 'rumors', 'run', 'running', 'runs', 'rust', 'ruthless', 'sabretooths', 'sacred', 'sad', 'saddle', 'saddled', 'saddles', 'sadness', 'safe', 'safety', 'said', 'saints', 'sale', 'salty', 'samsung', 'sanity', 'satisfied', 'savagelands', 'save', 'saved', 'saw', 'say', 'saying', 'scale', 'scenery', 'schedule', 'score65', 'scorpions', 'scrap', 'scratching', 'scream', 'screen', 'screenshots', 'screw', 'screwed', 'screwing', 'scuba', 'seagulls', 'sealife', 'season', 'seasonal', 'sec', 'second', 'seconds', 'secretly', 'seeing', 'seen', 'selection', 'selfie', 'sell', 'selling', 'send', 'sense', 'separate', 'seriously', 'server', 'serveradmins', 'servers', 'serverswhat', 'service', 'set', 'setting', 'settings', 'settling', 'setup', 'sever', 'severe', 'sh', 'shady', 'shall', 'shame', 'share', 'shared', 'sheesh', 'shelter', 'shenainigains', 'shi', 'shockingly', 'shoot', 'shooter', 'shooting', 'shore', 'short', 'shortly', 'shot', 'shots', 'shouldn', 'shouldnt', 'showed', 'shown', 'shut', 'shwo', 'sides', 'sideways', 'sight', 'signing', 'silliness', 'silly', 'similarity', 'similator', 'simple', 'simply', 'simulated', 'single', 'sink', 'sinking', 'sinks', 'sit', 'site', 'sites', 'sitting', 'situation', 'situations', 'skill', 'skilled', 'skills', 'skins', 'skip', 'skipped', 'sky', 'skyrim', 'slammed', 'slap', 'slapped', 'slave', 'slavery', 'sleep', 'sleeping', 'sli', 'slide', 'slight', 'slightest', 'slogan', 'slots', 'slow', 'slowed', 'slower', 'slowly', 'small', 'smaller', 'smallest', 'smart', 'smashing', 'smoking', 'smoother', 'smoothly', 'snap', 'snapshot', 'snow', 'soaring', 'social', 'socialize', 'software', 'sol', 'sold', 'sole', 'solid', 'solidly', 'solo', 'solthe', 'solved', 'someday', 'someones', 'somewhat', 'soon', 'sooooo', 'sorry', 'sort', 'sorta', 'sorts', 'sound', 'sounds', 'sources', 'space', 'spanish', 'spare', 'spawn', 'spawned', 'spawning', 'spawns', 'speaking', 'spear', 'spears', 'spec', 'special', 'specialization', 'species', 'specific', 'specified', 'specs', 'sped', 'speed', 'speeds', 'spend', 'spending', 'spent', 'spewing', 'spider', 'spike', 'spikes', 'spit', 'spitter', 'spitting', 'split', 'spoiled', 'spontaneously', 'spot', 'sprawling', 'sprinkled', 'sprinting', 'square', 'squeeze', 'squeezing', 'ssd', 'ssds', 'stable', 'stabs', 'stage', 'stages', 'staggering', 'stairs', 'stake', 'stale', 'stamina', 'stand', 'standard', 'standing', 'star', 'start', 'started', 'starter', 'starting', 'starts', 'starvation', 'starve', 'starving', 'stash', 'stat', 'state', 'stated', 'statement', 'stations', 'stats', 'stay', 'stayed', 'staying', 'steady', 'steal', 'steam', 'steamcloud', 'stear', 'steep', 'stego', 'step', 'stick', 'stockpiled', 'stolen', 'stomping', 'stone', 'stones', 'stop', 'stopped', 'storage', 'store', 'stored', 'story', 'straight', 'strategize', 'strategy', 'stream', 'streaming', 'stress', 'stressful', 'strive', 'strives', 'strong', 'stronger', 'strongly', 'structure', 'structures', 'struggle', 'stuck', 'stucture', 'studio', 'stuf', 'stuff', 'stupid', 'stupidly', 'style', 'subject', 'subsided', 'suck', 'sucked', 'sucks', 'suddenly', 'suffer', 'suffered', 'suffering', 'suffers', 'sugar', 'sugarcoat', 'suggest', 'suicide', 'suit', 'suitable', 'suite', 'summed', 'sun', 'sunken', 'super', 'superior', 'supply', 'support', 'supported', 'supporting', 'supportrelateable', 'supports', 'supposed', 'supreme', 'suprisingly', 'sure', 'surprised', 'surrounded', 'survival', 'survivals', 'survive', 'surviving', 'swam', 'swamp', 'swarm', 'swimming', 'swing', 'switch', 'swooping', 'sync', 'tactic', 'tactical', 'tactics', 'tag', 'taken', 'takes', 'taking', 'talented', 'talk', 'talking', 'talks', 'tall', 'tamable', 'tame', 'tamed', 'tames', 'taming', 'tamming', 'tank', 'targets', 'tasks', 'tatch', 'tb', 'team', 'teammates', 'teamwork', 'tech', 'technical', 'tedious', 'tek', 'teleport', 'teleporting', 'teleports', 'tell', 'telling', 'tens', 'tent', 'term', 'terrain', 'terrible', 'terribly', 'terrific', 'territories', 'terrorism', 'tesselation', 'test', 'tested', 'tester', 'testing', 'text', 'texture', 'textures', 'tf', 'th', 'thank', 'thanks', 'thatch', 'thats', 'thegame', 'theirs', 'theme', 'theres', 'thief', 'thier', 'thing', 'things', 'think', 'thinking', 'thinks', 'thirty', 'tho', 'thought', 'thoughts', 'thousand', 'thousands', 'thread', 'threat', 'throughs', 'throw', 'throwing', 'thumb', 'thumbs', 'ti', 'tibmy', 'ticket', 'tier', 'ties', 'till', 'time', 'timeif', 'timer', 'times', 'timing', 'tinkering', 'tiny', 'tip', 'tips', 'tired', 'titan', 'title', 'tl', 'tldr', 'today', 'toilet', 'told', 'tolerable', 'tomorrow', 'ton', 'tons', 'took', 'tools', 'tor', 'tortured', 'total', 'totally', 'touch', 'touched', 'touchs', 'tough', 'towers', 'toxic', 'tp', 'tracking', 'trades', 'trailers', 'training', 'tranqs', 'transfer', 'transmitters', 'transportation', 'trash', 'travel', 'traversable', 'tree', 'trees', 'trenches', 'trexes', 'tribe', 'tribemates', 'tribes', 'tried', 'tries', 'trike', 'trikearmageddonmorgothapocalypse', 'trikebob', 'tring', 'trip', 'troll', 'trolling', 'trolls', 'trouble', 'trough', 'troughs', 'true', 'truly', 'trust', 'truth', 'try', 'trying', 'turds', 'turdy', 'turn', 'turned', 'turning', 'turns', 'turret', 'turrets', 'tv', 'tweak', 'tweaking', 'tweeking', 'twice', 'ty', 'type', 'types', 'typically', 'typing', 'tyrants', 'ugly', 'ultimate', 'ultimately', 'ultra', 'ummm', 'unable', 'unapologetic', 'unbalance', 'unbalanced', 'unbearable', 'unchecked', 'unconcious', 'unconscious', 'underground', 'undermeshing', 'underneath', 'understand', 'understandable', 'understanding', 'undescribable', 'undid', 'undone', 'unfair', 'unfinished', 'unforgiving', 'unfortunate', 'unfortunately', 'unimaingable', 'uninstalled', 'uninstalling', 'unique', 'unless', 'unlike', 'unload', 'unlock', 'unnacceptable', 'unnoffical', 'unoffical', 'unofficial', 'unoptimilized', 'unoptimized', 'unplayable', 'unplayablewhen', 'unpolished', 'unprecedented', 'unpredicatable', 'unprofessionel', 'unreal', 'unrealistic', 'unreasonable', 'unresolved', 'unsatisfied', 'unstuck', 'untill', 'untouched', 'unusual', 'uo', 'upand', 'upcoming', 'update', 'updated', 'updates', 'updating', 'upgrade', 'upgrading', 'ups', 'upset', 'upsides', 'ur', 'usd', 'use', 'used', 'useless', 'uselessbreeding', 'uselessso', 'uselesstaming', 'user', 'users', 'uses', 'using', 'usually', 'utter', 'utterly', 'v231', 'valhalla', 'valley', 'value', 'values', 'vanilla', 'vanish', 'varied', 'variety', 'varying', 'vast', 'vastly', 'vaughne', 've', 'vein', 'vengeance', 'ventures', 'verison', 'version', 'versions', 'viable', 'victim', 'victory', 'video', 'views', 'vigorous', 'village', 'virtually', 'virus', 'visual', 'vote', 'voting', 'vulnerable', 'waist', 'wait', 'waited', 'waiting', 'wake', 'walk', 'walking', 'wall', 'walled', 'walls', 'wandering', 'wanna', 'want', 'wanted', 'wants', 'war', 'warfare', 'warn', 'warning', 'warped', 'warping', 'wars', 'wasn', 'waste', 'wasted', 'watch', 'watching', 'water', 'watered', 'way', 'ways', 'wc', 'weak', 'weaknesses', 'weapon', 'weapons', 'weather', 'website', 'week', 'weeks', 'weight', 'weighted', 'welcome', 'welcoming', 'wen', 'went', 'weren', 'west', 'whale', 'whats', 'whilst', 'whiped', 'whistle', 'white', 'whopping', 'wide', 'wiht', 'wild', 'wildcard', 'wildcards', 'wilds', 'willing', 'willingly', 'win', 'windows', 'winning', 'winter', 'wipe', 'wiped', 'wiping', 'wiring', 'wise', 'wish', 'wishes', 'witcher', 'withstand', 'wolves', 'woman', 'won', 'wonder', 'wonderful', 'wont', 'wood', 'wooden', 'woodworking', 'words', 'work', 'worked', 'working', 'works', 'workshop', 'worksummary', 'world', 'worried', 'worry', 'worse', 'worst', 'worth', 'worthless', 'worthy', 'wouldn', 'wouldnt', 'wow', 'wreak', 'wreck', 'wrestless', 'write', 'writing', 'wrong', 'wrote', 'wtf', 'wtf²', 'www', 'wyvern', 'wyvernsand', 'wyvernsthey', 'x4', 'xbox', 'xd', 'xp', 'xubuntu', 'yay', 'yea', 'yeah', 'year', 'years', 'yes', 'yesterday', 'youth', 'youtube', 'youtubers', 'youve', 'zero']\n"
     ]
    }
   ],
   "source": [
    "topic_term_matrix = model.c_tf_idf_\n",
    "words = model.vectorizer_model.get_feature_names_out()\n",
    "print(list(words))"
   ]
  },
  {
   "cell_type": "code",
   "execution_count": 13,
   "metadata": {},
   "outputs": [],
   "source": [
    "# model_pubg = BERTopic.load(\"../Dados/bertopics/modelo_playerunknowns battlegrounds\")\n",
    "# model_gta = BERTopic.load(\"../Dados/bertopics/modelo_grand theft auto v\")\n",
    "\n",
    "model_a = BERTopic.load(\"../Dados/bertopics/modelo_ark survival evolved\")\n",
    "model_b = BERTopic.load(\"../Dados/bertopics/modelo_astroneer\")"
   ]
  },
  {
   "cell_type": "code",
   "execution_count": 14,
   "metadata": {},
   "outputs": [],
   "source": [
    "from sklearn.metrics.pairwise import cosine_similarity\n",
    "sim_matrix = cosine_similarity(model_a.topic_embeddings_, model_b.topic_embeddings_)"
   ]
  },
  {
   "cell_type": "code",
   "execution_count": 32,
   "metadata": {},
   "outputs": [
    {
     "data": {
      "text/plain": [
       "[('ark', 0.39032507),\n",
       " ('dinos', 0.37284368),\n",
       " ('gameplay', 0.35708115),\n",
       " ('dino', 0.33328345),\n",
       " ('survival', 0.3332205),\n",
       " ('tribes', 0.32042468),\n",
       " ('game', 0.31688714),\n",
       " ('dinosaurs', 0.31504548),\n",
       " ('pvp', 0.3120684),\n",
       " ('fun', 0.30661893)]"
      ]
     },
     "execution_count": 32,
     "metadata": {},
     "output_type": "execute_result"
    }
   ],
   "source": [
    "topic = 0\n",
    "model_a.get_topic(topic)"
   ]
  },
  {
   "cell_type": "code",
   "execution_count": 18,
   "metadata": {},
   "outputs": [
    {
     "name": "stdout",
     "output_type": "stream",
     "text": [
      "10\n"
     ]
    },
    {
     "data": {
      "text/plain": [
       "[('minecraft', 0.7553997),\n",
       " ('gameplay', 0.44975507),\n",
       " ('space', 0.44758636),\n",
       " ('games', 0.3585741),\n",
       " ('world', 0.3518503),\n",
       " ('game', 0.34833124),\n",
       " ('exploration', 0.33305824),\n",
       " ('sky', 0.32364157),\n",
       " ('play', 0.31879777),\n",
       " ('building', 0.30737215)]"
      ]
     },
     "execution_count": 18,
     "metadata": {},
     "output_type": "execute_result"
    }
   ],
   "source": [
    "import numpy as np\n",
    "\n",
    "most_similar_topic = np.argmax(sim_matrix[topic + 1])-1\n",
    "print(most_similar_topic)\n",
    "model_b.get_topic(most_similar_topic)"
   ]
  },
  {
   "cell_type": "code",
   "execution_count": 22,
   "metadata": {},
   "outputs": [
    {
     "name": "stdout",
     "output_type": "stream",
     "text": [
      "[[0.832 0.793 0.771 0.844 0.849 0.655 0.792 0.804 0.472 0.777 0.821 0.811\n",
      "  0.717 0.691 0.884 0.655 0.609 0.624 0.734 0.801 0.803 0.575 0.829 0.804\n",
      "  0.684 0.689 0.498 0.733 0.581]\n",
      " [0.779 0.755 0.739 0.782 0.596 0.672 0.594 0.747 0.449 0.713 0.728 0.785\n",
      "  0.655 0.777 0.748 0.623 0.498 0.612 0.757 0.763 0.656 0.568 0.775 0.753\n",
      "  0.721 0.673 0.448 0.697 0.569]\n",
      " [0.778 0.711 0.721 0.796 0.598 0.642 0.806 0.721 0.502 0.713 0.82  0.719\n",
      "  0.748 0.667 0.741 0.643 0.612 0.587 0.701 0.725 0.819 0.605 0.785 0.761\n",
      "  0.678 0.712 0.523 0.718 0.596]\n",
      " [0.74  0.703 0.701 0.742 0.876 0.598 0.597 0.688 0.424 0.705 0.731 0.745\n",
      "  0.634 0.611 0.742 0.581 0.542 0.537 0.623 0.716 0.655 0.488 0.697 0.693\n",
      "  0.579 0.627 0.491 0.641 0.498]]\n"
     ]
    }
   ],
   "source": [
    "import numpy as np\n",
    "np.set_printoptions(precision=3, suppress=True)\n",
    "# 4x29\n",
    "print(sim_matrix)\n",
    "\n",
    "#linha representa o tópico X do modelo A\n",
    "#coluna representa o tópico Y do modelo B\n",
    "#primeira linha e a primeira coluna é lixo"
   ]
  },
  {
   "cell_type": "code",
   "execution_count": 33,
   "metadata": {},
   "outputs": [
    {
     "data": {
      "text/plain": [
       "array([0.779, 0.755, 0.739, 0.782, 0.596, 0.672, 0.594, 0.747, 0.449,\n",
       "       0.713, 0.728, 0.785, 0.655, 0.777, 0.748, 0.623, 0.498, 0.612,\n",
       "       0.757, 0.763, 0.656, 0.568, 0.775, 0.753, 0.721, 0.673, 0.448,\n",
       "       0.697, 0.569], dtype=float32)"
      ]
     },
     "execution_count": 33,
     "metadata": {},
     "output_type": "execute_result"
    }
   ],
   "source": [
    "sim_matrix[topic + 1]"
   ]
  }
 ],
 "metadata": {
  "kernelspec": {
   "display_name": "recinfo",
   "language": "python",
   "name": "python3"
  },
  "language_info": {
   "codemirror_mode": {
    "name": "ipython",
    "version": 3
   },
   "file_extension": ".py",
   "mimetype": "text/x-python",
   "name": "python",
   "nbconvert_exporter": "python",
   "pygments_lexer": "ipython3",
   "version": "3.11.3"
  },
  "orig_nbformat": 4
 },
 "nbformat": 4,
 "nbformat_minor": 2
}
