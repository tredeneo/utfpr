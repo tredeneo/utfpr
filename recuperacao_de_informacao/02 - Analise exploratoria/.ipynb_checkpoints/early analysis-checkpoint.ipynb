{
 "cells": [
  {
   "cell_type": "code",
   "execution_count": 1,
   "metadata": {},
   "outputs": [],
   "source": [
    "import pandas as pd"
   ]
  },
  {
   "cell_type": "code",
   "execution_count": 2,
   "metadata": {},
   "outputs": [],
   "source": [
    "df = pd.read_csv('../Dados/steam_reviews.csv')"
   ]
  },
  {
   "cell_type": "code",
   "execution_count": 3,
   "metadata": {},
   "outputs": [
    {
     "name": "stdout",
     "output_type": "stream",
     "text": [
      "<class 'pandas.core.frame.DataFrame'>\n",
      "RangeIndex: 434891 entries, 0 to 434890\n",
      "Data columns (total 8 columns):\n",
      " #   Column                  Non-Null Count   Dtype \n",
      "---  ------                  --------------   ----- \n",
      " 0   date_posted             434891 non-null  object\n",
      " 1   funny                   434891 non-null  int64 \n",
      " 2   helpful                 434891 non-null  int64 \n",
      " 3   hour_played             434891 non-null  int64 \n",
      " 4   is_early_access_review  434891 non-null  bool  \n",
      " 5   recommendation          434891 non-null  object\n",
      " 6   review                  433375 non-null  object\n",
      " 7   title                   434891 non-null  object\n",
      "dtypes: bool(1), int64(3), object(4)\n",
      "memory usage: 23.6+ MB\n"
     ]
    }
   ],
   "source": [
    "df.info()"
   ]
  },
  {
   "cell_type": "code",
   "execution_count": 4,
   "metadata": {},
   "outputs": [
    {
     "data": {
      "text/html": [
       "<div>\n",
       "<style scoped>\n",
       "    .dataframe tbody tr th:only-of-type {\n",
       "        vertical-align: middle;\n",
       "    }\n",
       "\n",
       "    .dataframe tbody tr th {\n",
       "        vertical-align: top;\n",
       "    }\n",
       "\n",
       "    .dataframe thead th {\n",
       "        text-align: right;\n",
       "    }\n",
       "</style>\n",
       "<table border=\"1\" class=\"dataframe\">\n",
       "  <thead>\n",
       "    <tr style=\"text-align: right;\">\n",
       "      <th></th>\n",
       "      <th>date_posted</th>\n",
       "      <th>funny</th>\n",
       "      <th>helpful</th>\n",
       "      <th>hour_played</th>\n",
       "      <th>is_early_access_review</th>\n",
       "      <th>recommendation</th>\n",
       "      <th>review</th>\n",
       "      <th>title</th>\n",
       "    </tr>\n",
       "  </thead>\n",
       "  <tbody>\n",
       "    <tr>\n",
       "      <th>433025</th>\n",
       "      <td>2010-12-20</td>\n",
       "      <td>0</td>\n",
       "      <td>0</td>\n",
       "      <td>56</td>\n",
       "      <td>False</td>\n",
       "      <td>Recommended</td>\n",
       "      <td>Zombis zombis y mas zombis!Terrible juego paa ...</td>\n",
       "      <td>Left 4 Dead 2</td>\n",
       "    </tr>\n",
       "    <tr>\n",
       "      <th>432882</th>\n",
       "      <td>2011-02-05</td>\n",
       "      <td>0</td>\n",
       "      <td>0</td>\n",
       "      <td>309</td>\n",
       "      <td>False</td>\n",
       "      <td>Recommended</td>\n",
       "      <td>One of the best LAN and Online multiplayer gam...</td>\n",
       "      <td>Left 4 Dead 2</td>\n",
       "    </tr>\n",
       "    <tr>\n",
       "      <th>41814</th>\n",
       "      <td>2011-05-31</td>\n",
       "      <td>0</td>\n",
       "      <td>0</td>\n",
       "      <td>109</td>\n",
       "      <td>False</td>\n",
       "      <td>Recommended</td>\n",
       "      <td>While similar to Minecraft this game is a whol...</td>\n",
       "      <td>Terraria</td>\n",
       "    </tr>\n",
       "    <tr>\n",
       "      <th>41796</th>\n",
       "      <td>2011-06-05</td>\n",
       "      <td>0</td>\n",
       "      <td>0</td>\n",
       "      <td>16</td>\n",
       "      <td>False</td>\n",
       "      <td>Recommended</td>\n",
       "      <td>Great fun game just to mess around with.Very A...</td>\n",
       "      <td>Terraria</td>\n",
       "    </tr>\n",
       "    <tr>\n",
       "      <th>41901</th>\n",
       "      <td>2011-06-15</td>\n",
       "      <td>0</td>\n",
       "      <td>0</td>\n",
       "      <td>12</td>\n",
       "      <td>False</td>\n",
       "      <td>Recommended</td>\n",
       "      <td>2D Minecraft is the lazy way to describe it bu...</td>\n",
       "      <td>Terraria</td>\n",
       "    </tr>\n",
       "    <tr>\n",
       "      <th>...</th>\n",
       "      <td>...</td>\n",
       "      <td>...</td>\n",
       "      <td>...</td>\n",
       "      <td>...</td>\n",
       "      <td>...</td>\n",
       "      <td>...</td>\n",
       "      <td>...</td>\n",
       "      <td>...</td>\n",
       "    </tr>\n",
       "    <tr>\n",
       "      <th>361257</th>\n",
       "      <td>2019-02-16</td>\n",
       "      <td>0</td>\n",
       "      <td>0</td>\n",
       "      <td>10</td>\n",
       "      <td>False</td>\n",
       "      <td>Recommended</td>\n",
       "      <td>nostalgic and greatly done remake</td>\n",
       "      <td>RESIDENT EVIL 2 / BIOHAZARD RE:2</td>\n",
       "    </tr>\n",
       "    <tr>\n",
       "      <th>361258</th>\n",
       "      <td>2019-02-16</td>\n",
       "      <td>0</td>\n",
       "      <td>0</td>\n",
       "      <td>18</td>\n",
       "      <td>False</td>\n",
       "      <td>Recommended</td>\n",
       "      <td>X GON GIV IT TO YA</td>\n",
       "      <td>RESIDENT EVIL 2 / BIOHAZARD RE:2</td>\n",
       "    </tr>\n",
       "    <tr>\n",
       "      <th>361259</th>\n",
       "      <td>2019-02-16</td>\n",
       "      <td>0</td>\n",
       "      <td>0</td>\n",
       "      <td>10</td>\n",
       "      <td>False</td>\n",
       "      <td>Recommended</td>\n",
       "      <td>If you want to feel like you're having a heart...</td>\n",
       "      <td>RESIDENT EVIL 2 / BIOHAZARD RE:2</td>\n",
       "    </tr>\n",
       "    <tr>\n",
       "      <th>361299</th>\n",
       "      <td>2019-02-16</td>\n",
       "      <td>0</td>\n",
       "      <td>0</td>\n",
       "      <td>5</td>\n",
       "      <td>False</td>\n",
       "      <td>Recommended</td>\n",
       "      <td>X gon give it to ya</td>\n",
       "      <td>RESIDENT EVIL 2 / BIOHAZARD RE:2</td>\n",
       "    </tr>\n",
       "    <tr>\n",
       "      <th>165044</th>\n",
       "      <td>2019-02-16</td>\n",
       "      <td>0</td>\n",
       "      <td>0</td>\n",
       "      <td>20</td>\n",
       "      <td>False</td>\n",
       "      <td>Not Recommended</td>\n",
       "      <td>It's just not fun.</td>\n",
       "      <td>Grand Theft Auto V</td>\n",
       "    </tr>\n",
       "  </tbody>\n",
       "</table>\n",
       "<p>434891 rows × 8 columns</p>\n",
       "</div>"
      ],
      "text/plain": [
       "       date_posted  funny  helpful  hour_played  is_early_access_review  \\\n",
       "433025  2010-12-20      0        0           56                   False   \n",
       "432882  2011-02-05      0        0          309                   False   \n",
       "41814   2011-05-31      0        0          109                   False   \n",
       "41796   2011-06-05      0        0           16                   False   \n",
       "41901   2011-06-15      0        0           12                   False   \n",
       "...            ...    ...      ...          ...                     ...   \n",
       "361257  2019-02-16      0        0           10                   False   \n",
       "361258  2019-02-16      0        0           18                   False   \n",
       "361259  2019-02-16      0        0           10                   False   \n",
       "361299  2019-02-16      0        0            5                   False   \n",
       "165044  2019-02-16      0        0           20                   False   \n",
       "\n",
       "         recommendation                                             review  \\\n",
       "433025      Recommended  Zombis zombis y mas zombis!Terrible juego paa ...   \n",
       "432882      Recommended  One of the best LAN and Online multiplayer gam...   \n",
       "41814       Recommended  While similar to Minecraft this game is a whol...   \n",
       "41796       Recommended  Great fun game just to mess around with.Very A...   \n",
       "41901       Recommended  2D Minecraft is the lazy way to describe it bu...   \n",
       "...                 ...                                                ...   \n",
       "361257      Recommended                  nostalgic and greatly done remake   \n",
       "361258      Recommended                                 X GON GIV IT TO YA   \n",
       "361259      Recommended  If you want to feel like you're having a heart...   \n",
       "361299      Recommended                                X gon give it to ya   \n",
       "165044  Not Recommended                                 It's just not fun.   \n",
       "\n",
       "                                   title  \n",
       "433025                     Left 4 Dead 2  \n",
       "432882                     Left 4 Dead 2  \n",
       "41814                           Terraria  \n",
       "41796                           Terraria  \n",
       "41901                           Terraria  \n",
       "...                                  ...  \n",
       "361257  RESIDENT EVIL 2 / BIOHAZARD RE:2  \n",
       "361258  RESIDENT EVIL 2 / BIOHAZARD RE:2  \n",
       "361259  RESIDENT EVIL 2 / BIOHAZARD RE:2  \n",
       "361299  RESIDENT EVIL 2 / BIOHAZARD RE:2  \n",
       "165044                Grand Theft Auto V  \n",
       "\n",
       "[434891 rows x 8 columns]"
      ]
     },
     "execution_count": 4,
     "metadata": {},
     "output_type": "execute_result"
    }
   ],
   "source": [
    "df.sort_values(by='date_posted')"
   ]
  },
  {
   "cell_type": "code",
   "execution_count": 5,
   "metadata": {},
   "outputs": [
    {
     "data": {
      "text/plain": [
       "48"
      ]
     },
     "execution_count": 5,
     "metadata": {},
     "output_type": "execute_result"
    }
   ],
   "source": [
    "df['title'].nunique()"
   ]
  },
  {
   "cell_type": "code",
   "execution_count": 6,
   "metadata": {},
   "outputs": [
    {
     "data": {
      "text/plain": [
       "array(['Expansion - Hearts of Iron IV: Man the Guns', 'Dead by Daylight',\n",
       "       'Wargroove', 'Wallpaper Engine', 'Factorio',\n",
       "       'Insurgency: Sandstorm', 'Cold Waters', 'Tannenberg',\n",
       "       'Pathfinder: Kingmaker', 'MONSTER HUNTER: WORLD',\n",
       "       'Divinity: Original Sin 2 - Definitive Edition',\n",
       "       'Football Manager 2019', \"Garry's Mod\", 'Survivor Pass: Vikendi',\n",
       "       'Moonlighter', 'Terraria', 'GOD EATER 3',\n",
       "       'Sid Meier’s Civilization® VI', 'Rocket League®',\n",
       "       'Subnautica: Below Zero', \"Tom Clancy's Rainbow Six® Siege\",\n",
       "       'ASTRONEER', 'Sid Meier’s Civilization® VI: Rise and Fall',\n",
       "       'Kenshi', 'Euro Truck Simulator 2', 'Grand Theft Auto V',\n",
       "       'RimWorld', 'NBA 2K19', 'RESIDENT EVIL 2 / BIOHAZARD RE:2',\n",
       "       'Slay the Spire', 'My Time At Portia', 'Foundation', 'Beat Saber',\n",
       "       \"Sid Meier's Civilization® VI: Gathering Storm\", 'Stardew Valley',\n",
       "       'Farming Simulator 19', \"PLAYERUNKNOWN'S BATTLEGROUNDS\",\n",
       "       'Overcooked! 2', \"Don't Starve Together\", 'Rust', 'Subnautica',\n",
       "       'ACE COMBAT™ 7: SKIES UNKNOWN', 'Left 4 Dead 2',\n",
       "       'ARK: Survival Evolved', 'Battlefleet Gothic: Armada 2',\n",
       "       'The Elder Scrolls V: Skyrim Special Edition', 'Human: Fall Flat',\n",
       "       'Warhammer 40,000: Mechanicus'], dtype=object)"
      ]
     },
     "execution_count": 6,
     "metadata": {},
     "output_type": "execute_result"
    }
   ],
   "source": [
    "df['title'].unique()"
   ]
  },
  {
   "cell_type": "code",
   "execution_count": null,
   "metadata": {},
   "outputs": [],
   "source": []
  }
 ],
 "metadata": {
  "kernelspec": {
   "display_name": "llm",
   "language": "python",
   "name": "python3"
  },
  "language_info": {
   "codemirror_mode": {
    "name": "ipython",
    "version": 3
   },
   "file_extension": ".py",
   "mimetype": "text/x-python",
   "name": "python",
   "nbconvert_exporter": "python",
   "pygments_lexer": "ipython3",
   "version": "3.9.7"
  },
  "orig_nbformat": 4
 },
 "nbformat": 4,
 "nbformat_minor": 2
}
