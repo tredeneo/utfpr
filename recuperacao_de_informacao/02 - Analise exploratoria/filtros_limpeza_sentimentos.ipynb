{
 "cells": [
  {
   "cell_type": "code",
   "execution_count": 1,
   "id": "6a517f93-4a19-4d8d-a290-d250a37f0b90",
   "metadata": {
    "tags": []
   },
   "outputs": [],
   "source": [
    "import pandas\n",
    "import fasttext\n",
    "from textblob import TextBlob"
   ]
  },
  {
   "cell_type": "code",
   "execution_count": 51,
   "id": "d9661e6e-e341-4377-9bb3-e22385a8c8c6",
   "metadata": {
    "tags": []
   },
   "outputs": [],
   "source": [
    "steam = pandas.read_csv('../Dados/steam_reviews.csv')"
   ]
  },
  {
   "cell_type": "code",
   "execution_count": 52,
   "id": "7b6c7a12-2675-49c5-8d05-3b952b7c4925",
   "metadata": {
    "tags": []
   },
   "outputs": [],
   "source": [
    "steam[\"review\"] = steam[\"review\"].str.replace('&gt', '')\n",
    "steam[\"review\"] = steam[\"review\"].str.replace('&lt', '')"
   ]
  },
  {
   "cell_type": "code",
   "execution_count": 53,
   "id": "89d1ad17-6681-4b0d-b154-b5a966af4af2",
   "metadata": {
    "tags": []
   },
   "outputs": [],
   "source": [
    "steam = steam[steam[\"review\"].notnull()]\n",
    "steam = steam[steam[\"review\"].notna()]\n",
    "steam = steam[steam[\"review\"].str.len() >2]"
   ]
  },
  {
   "cell_type": "code",
   "execution_count": 54,
   "id": "af25b708-cdea-4cbe-ab07-10c135a88071",
   "metadata": {
    "tags": []
   },
   "outputs": [
    {
     "name": "stderr",
     "output_type": "stream",
     "text": [
      "Warning : `load_model` does not return WordVectorModel or SupervisedModel any more, but a `FastText` object which is very similar.\n"
     ]
    }
   ],
   "source": [
    "pretrained_model = \"../Dados/lid.176.bin\" \n",
    "model = fasttext.load_model(pretrained_model)\n",
    "langs = []\n",
    "for sent in steam['review']:\n",
    "    lang = model.predict(sent)[0]\n",
    "    langs.append(str(lang)[11:13])\n",
    "steam['langs'] = langs"
   ]
  },
  {
   "cell_type": "code",
   "execution_count": 55,
   "id": "a5fbb23e-8e2b-44fe-b6e5-cc9415b9e1ab",
   "metadata": {
    "tags": []
   },
   "outputs": [],
   "source": [
    "steam = steam[steam[\"langs\"]==\"en\"]\n",
    "steam = steam.drop('langs', axis=1)"
   ]
  },
  {
   "cell_type": "code",
   "execution_count": 57,
   "id": "6e3970b1-c600-4b15-85f8-9cb626212580",
   "metadata": {
    "tags": []
   },
   "outputs": [],
   "source": [
    "steam[\"polaridade\"] = steam[\"review\"].map(lambda text:TextBlob(text).sentiment.polarity)\n",
    "steam['review_len'] = steam['review'].astype(str).apply(len)\n",
    "steam['word_count'] = steam['review'].apply(lambda x: len(str(x).split()))"
   ]
  },
  {
   "cell_type": "code",
   "execution_count": 58,
   "id": "1678b07d-ae0e-442e-a330-5d9e9594d365",
   "metadata": {
    "tags": []
   },
   "outputs": [],
   "source": [
    "steam.to_csv(\"../Dados/steam_reviews_filtrado.csv\", encoding='utf-8',index=False)"
   ]
  },
  {
   "cell_type": "code",
   "execution_count": null,
   "id": "6eb7574a-bdfe-44f9-ace0-8c1d2ecc53c9",
   "metadata": {},
   "outputs": [],
   "source": []
  }
 ],
 "metadata": {
  "kernelspec": {
   "display_name": "Python 3 (ipykernel)",
   "language": "python",
   "name": "python3"
  },
  "language_info": {
   "codemirror_mode": {
    "name": "ipython",
    "version": 3
   },
   "file_extension": ".py",
   "mimetype": "text/x-python",
   "name": "python",
   "nbconvert_exporter": "python",
   "pygments_lexer": "ipython3",
   "version": "3.10.8"
  }
 },
 "nbformat": 4,
 "nbformat_minor": 5
}
