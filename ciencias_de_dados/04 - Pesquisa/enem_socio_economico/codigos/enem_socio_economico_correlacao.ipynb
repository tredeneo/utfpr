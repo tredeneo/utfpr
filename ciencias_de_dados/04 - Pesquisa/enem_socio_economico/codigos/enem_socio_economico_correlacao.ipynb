{
 "cells": [
  {
   "cell_type": "code",
   "execution_count": 1,
   "id": "e5609a96-6f12-48de-9603-7b47a0f08a74",
   "metadata": {},
   "outputs": [],
   "source": [
    "import sys\n",
    "import pandas\n",
    "\n",
    "sys.path.append(\".\")\n",
    "import processamento"
   ]
  },
  {
   "cell_type": "code",
   "execution_count": 2,
   "id": "1eafad80-932d-43c7-829e-2eb6cdd013e8",
   "metadata": {},
   "outputs": [],
   "source": [
    "quantidade_lida = 1000\n",
    "enem_2019 = pandas.read_csv(\n",
    "    \"./microdados_enem_2019/DADOS/MICRODADOS_ENEM_2019.csv\",\n",
    "    delimiter=\";\",\n",
    "    encoding=\"iso-8859-15\",\n",
    "    nrows=quantidade_lida,\n",
    ")\n",
    "enem_2020 = pandas.read_csv(\n",
    "    \"./microdados_enem_2020/DADOS/MICRODADOS_ENEM_2020.csv\",\n",
    "    delimiter=\";\",\n",
    "    encoding=\"iso-8859-15\",\n",
    "    nrows=quantidade_lida,\n",
    ")\n",
    "enem_2019, enem_2020 = processamento.limpeza(enem_2019, enem_2020)"
   ]
  },
  {
   "cell_type": "markdown",
   "id": "324f730c-b0eb-43df-b664-d8e30941672c",
   "metadata": {},
   "source": [
    "calcular a correlação das variaveis, cramers é a unica da biblioteca que pode ser usada para variaveis categoricas não ordinais"
   ]
  },
  {
   "cell_type": "code",
   "execution_count": 3,
   "id": "8a1940d9-21cf-4cbc-96d8-2fe9b4dc9abf",
   "metadata": {},
   "outputs": [],
   "source": [
    "from pandas_profiling import ProfileReport\n",
    "def profile(enem,ano):\n",
    "    import json\n",
    "    #usar apenas a correlação de cramer pq é a unica que funcionar para valores nominais\n",
    "    profile = enem.profile_report(\n",
    "        show_variable_description=False,\n",
    "        progress_bar=False,\n",
    "        correlations={\n",
    "            \"pearson\": {\"calculate\": False},\n",
    "            \"spearman\": {\"calculate\": False},\n",
    "            \"kendall\": {\"calculate\": False},\n",
    "            \"phi_k\": {\"calculate\": False},\n",
    "            \"cramers\": {\"calculate\": True},})\n",
    "    profile.to_file(f\"enem-{ano}.html\")\n",
    "    return json.loads(profile.to_json())\n",
    "\n",
    "correlacao_2019 = profile(enem_2019,\"2019\")[\"correlations\"][\"cramers\"]\n",
    "correlacao_2020 = profile(enem_2020,\"2020\")[\"correlations\"][\"cramers\"]"
   ]
  },
  {
   "cell_type": "markdown",
   "id": "98cd0af6-df1a-4a10-893b-a231f9d5ef2d",
   "metadata": {},
   "source": [
    "pega o calculo de correlação gerado pela biblioteca ProfileReport,a biblioteca faz seu proprio arquivo html,\n",
    "que não é possivel filtrar quais campos serão incluidas nele, essa função filtra os campos e as variaveis e \n",
    "faz o grafico"
   ]
  },
  {
   "cell_type": "code",
   "execution_count": null,
   "id": "be5d625c-f51a-4266-b45d-1bbe073264ea",
   "metadata": {
    "tags": []
   },
   "outputs": [],
   "source": [
    "def gera_tabela_correlacao(csv,ano):\n",
    "    correlacao = []\n",
    "    for i in range(len(csv)):\n",
    "        correlacao.append(dict(csv[i]))\n",
    "\n",
    "    correlacao = pandas.DataFrame(correlacao)\n",
    "\n",
    "    correlacao = pandas.concat([correlacao,pandas.DataFrame(correlacao.columns)],axis=1)\n",
    "    correlacao = correlacao.rename(columns ={0:\"colunas\"})\n",
    "    \n",
    "    correlacao = correlacao.set_index('colunas').sort_values(by=\"colunas\")\n",
    "    correlacao = correlacao[sorted(correlacao.columns)]\n",
    "    correlacao.to_csv(f\"correlacao_{ano}.csv\")\n",
    "    correlacao.style\\\n",
    "        .background_gradient(cmap='coolwarm')\\\n",
    "        .format(precision=2)\\\n",
    "        .to_html(f\"correlacao_{ano}.html\")\n",
    "\n",
    "gera_tabela_correlacao(correlacao_2019,\"2019\")\n",
    "gera_tabela_correlacao(correlacao_2019,\"2020\")    "
   ]
  }
 ],
 "metadata": {
  "kernelspec": {
   "display_name": "Python 3 (ipykernel)",
   "language": "python",
   "name": "python3"
  },
  "language_info": {
   "codemirror_mode": {
    "name": "ipython",
    "version": 3
   },
   "file_extension": ".py",
   "mimetype": "text/x-python",
   "name": "python",
   "nbconvert_exporter": "python",
   "pygments_lexer": "ipython3",
   "version": "3.10.5"
  }
 },
 "nbformat": 4,
 "nbformat_minor": 5
}
